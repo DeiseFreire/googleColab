{
  "nbformat": 4,
  "nbformat_minor": 0,
  "metadata": {
    "colab": {
      "name": "Regresión Lineal.ipynb",
      "provenance": [],
      "authorship_tag": "ABX9TyNr59jGEi/cxG09cMMvnfGy",
      "include_colab_link": true
    },
    "kernelspec": {
      "name": "python3",
      "display_name": "Python 3"
    },
    "language_info": {
      "name": "python"
    }
  },
  "cells": [
    {
      "cell_type": "markdown",
      "metadata": {
        "id": "view-in-github",
        "colab_type": "text"
      },
      "source": [
        "<a href=\"https://colab.research.google.com/github/DeiseFreire/googleColab/blob/main/Regresi%C3%B3n_Lineal.ipynb\" target=\"_parent\"><img src=\"https://colab.research.google.com/assets/colab-badge.svg\" alt=\"Open In Colab\"/></a>"
      ]
    },
    {
      "cell_type": "code",
      "execution_count": null,
      "metadata": {
        "id": "qHx8gCGn5ZUJ"
      },
      "outputs": [],
      "source": [
        "import pandas as pd \n",
        "import numpy as np\n",
        "from sklearn import datasets, linear_model\n",
        "from sklearn.metrics import mean_squared_error, r2_score\n",
        "import matplotlib.pyplot as plt\n",
        "\n",
        "df = pd.read_csv(\"C:/Users/booth04-mgr2/Desktop/python/data/2008.csv\")"
      ]
    },
    {
      "cell_type": "code",
      "source": [
        "df = df.dropna(subset = [\"ArrDelay\"])\n",
        "df = df.sample(frac=1).head(100000)\n",
        "Y = df[\"ArrDelay\"]\n",
        "X = df[[\"DepDelay\"]\n"
      ],
      "metadata": {
        "id": "0T66vcQ5536z"
      },
      "execution_count": null,
      "outputs": []
    },
    {
      "cell_type": "code",
      "source": [
        "df.columns"
      ],
      "metadata": {
        "id": "W4ZJHAbY57Yy"
      },
      "execution_count": null,
      "outputs": []
    },
    {
      "cell_type": "code",
      "source": [
        "print(\"Coeficientes: \",regr.coef_)\n",
        "Y_pred = regr.predict(X)\n",
        "print(\"R cuadrado: \",r2_score(Y, Y_pred))\n"
      ],
      "metadata": {
        "id": "28bz8wMp6BKH"
      },
      "execution_count": null,
      "outputs": []
    },
    {
      "cell_type": "code",
      "source": [
        "plt.scatter(X[1:10000],Y[1:10000],color = \"black\")\n",
        "plt.plot(X[1:10000],Y_pred[1:10000],color=\"Blue\")\n",
        "plt.show()"
      ],
      "metadata": {
        "id": "1TMdueTr6jx3"
      },
      "execution_count": null,
      "outputs": []
    },
    {
      "cell_type": "code",
      "source": [
        "X = df[['AirTime','Distance','TaxiIn','TaxiOut']]\n",
        "\n",
        "df[\"Month\"] = df[\"Month\"].apply(str)\n",
        "df[\"DayofMonth\"] = df[\"DayofMonth\"].apply(str)\n",
        "df[\"DayOfWeek\"] = df[\"DayOfWeek\"].apply(str)\n",
        "\n",
        "dummies = pd.get_dummies(data=df[['Month', 'DayofMonth', 'DayOfWeek','Origin','Dest']])\n",
        "X = dummies.add(X,fill_value=0)"
      ],
      "metadata": {
        "id": "GtHnoGDH738a"
      },
      "execution_count": null,
      "outputs": []
    },
    {
      "cell_type": "code",
      "source": [
        "X.columns"
      ],
      "metadata": {
        "id": "lY4MV0qr78yu"
      },
      "execution_count": null,
      "outputs": []
    },
    {
      "cell_type": "code",
      "source": [
        "regr = linear_model.LinearRegression()\n",
        "regr.fit(X, Y)\n",
        "\n",
        "#print(\"Coeficientes: \",regr.coef_)\n",
        "Y_pred = regr.predict(X)\n",
        "print(\"R cuadrado: \",r2_score(Y, Y_pred))"
      ],
      "metadata": {
        "id": "suKIibKO9HGy"
      },
      "execution_count": null,
      "outputs": []
    },
    {
      "cell_type": "code",
      "source": [
        "X = X.add(df[[\"DepDelay\"]],fill_value=0)"
      ],
      "metadata": {
        "id": "hEUPEDSr9UE9"
      },
      "execution_count": null,
      "outputs": []
    },
    {
      "cell_type": "code",
      "source": [
        "regr = linear_model.LinearRegression()\n",
        "regr.fit(X, Y)\n",
        "#print(\"Coeficientes: \",regr.coef_)\n",
        "Y_pred = regr.predict(X)\n",
        "print(\"R cuadrado: \",r2_score(X, Y_pred))"
      ],
      "metadata": {
        "id": "XCe7zi7I_Gjp"
      },
      "execution_count": null,
      "outputs": []
    }
  ]
}