{
  "nbformat": 4,
  "nbformat_minor": 0,
  "metadata": {
    "colab": {
      "name": "11. Dicionário 3-3 .ipynb",
      "provenance": [],
      "authorship_tag": "ABX9TyN8WIlXxejtw/ziifiAd0xE",
      "include_colab_link": true
    },
    "kernelspec": {
      "name": "python3",
      "display_name": "Python 3"
    },
    "language_info": {
      "name": "python"
    }
  },
  "cells": [
    {
      "cell_type": "markdown",
      "metadata": {
        "id": "view-in-github",
        "colab_type": "text"
      },
      "source": [
        "<a href=\"https://colab.research.google.com/github/DeiseFreire/googleColab/blob/main/11_Dicion%C3%A1rio_3_3_.ipynb\" target=\"_parent\"><img src=\"https://colab.research.google.com/assets/colab-badge.svg\" alt=\"Open In Colab\"/></a>"
      ]
    },
    {
      "cell_type": "markdown",
      "source": [
        "**`coding: utf-8`**\n",
        "\n",
        "**`Criado sexta-feira mar 18 13:31:48 2021`**\n",
        "\n",
        "**`@author: Deise Freire`** "
      ],
      "metadata": {
        "id": "Umt8P5Hs3WTv"
      }
    },
    {
      "cell_type": "markdown",
      "source": [
        "**`Revisão sobre listas`**"
      ],
      "metadata": {
        "id": "0lR3GrhV3-VA"
      }
    },
    {
      "cell_type": "code",
      "source": [
        "lista_vazia = []"
      ],
      "metadata": {
        "id": "G6QtFKFU4AXa"
      },
      "execution_count": 5,
      "outputs": []
    },
    {
      "cell_type": "code",
      "source": [
        "lista_vazia2 = list()"
      ],
      "metadata": {
        "id": "IaOtXNZP4DEK"
      },
      "execution_count": 6,
      "outputs": []
    },
    {
      "cell_type": "code",
      "source": [
        "familia = ['Roberto', 'Lucas', 'Bianca']"
      ],
      "metadata": {
        "id": "uBEC3aHw4E_d"
      },
      "execution_count": 7,
      "outputs": []
    },
    {
      "cell_type": "code",
      "source": [
        "familia.append('Nathalia')"
      ],
      "metadata": {
        "id": "5y8i0nO64HHv"
      },
      "execution_count": 8,
      "outputs": []
    },
    {
      "cell_type": "markdown",
      "source": [
        "**`Objetos do tipo tupla`**"
      ],
      "metadata": {
        "id": "jtA_shFV4Lnm"
      }
    },
    {
      "cell_type": "code",
      "source": [
        "tupla_vazia = ()"
      ],
      "metadata": {
        "id": "hKKVpMkO4OKo"
      },
      "execution_count": 9,
      "outputs": []
    },
    {
      "cell_type": "code",
      "source": [
        "t1 = tuple(['Rio','Tóquio','Paris'])"
      ],
      "metadata": {
        "id": "CXVF3pM74QOd"
      },
      "execution_count": 10,
      "outputs": []
    },
    {
      "cell_type": "markdown",
      "source": [
        "**`Dicionários`**"
      ],
      "metadata": {
        "id": "EDzkqAJA4Urp"
      }
    },
    {
      "cell_type": "code",
      "source": [
        "dicionario = {}"
      ],
      "metadata": {
        "id": "xPW_jAhz4W4r"
      },
      "execution_count": 11,
      "outputs": []
    },
    {
      "cell_type": "code",
      "source": [
        "dicionario2 = dict()"
      ],
      "metadata": {
        "id": "SpMl18Kr4a__"
      },
      "execution_count": 12,
      "outputs": []
    },
    {
      "cell_type": "code",
      "source": [
        "familia = {'Pai':'Roberto','Mãe':'Bianca','TemFilhos':False}"
      ],
      "metadata": {
        "id": "8PlqNvFL4dma"
      },
      "execution_count": 13,
      "outputs": []
    },
    {
      "cell_type": "code",
      "source": [
        "familia2 = dict(Pai=\"Carlos\", Mae=\"Maria\",TemFilhos=True)"
      ],
      "metadata": {
        "id": "iB0c6LVQ4ge7"
      },
      "execution_count": 14,
      "outputs": []
    },
    {
      "cell_type": "code",
      "source": [
        "lista_tuplas = [(\"Pai\",\"João\"),(\"Mãe\",\"Júlia\"),(\"TemFilhos\",False)]"
      ],
      "metadata": {
        "id": "qoWpaFpK4jEO"
      },
      "execution_count": 15,
      "outputs": []
    },
    {
      "cell_type": "code",
      "source": [
        "familia3 = dict(lista_tuplas)"
      ],
      "metadata": {
        "id": "Tnm6xxiW4pD1"
      },
      "execution_count": 16,
      "outputs": []
    },
    {
      "cell_type": "code",
      "source": [
        "familia2['Pai']"
      ],
      "metadata": {
        "colab": {
          "base_uri": "https://localhost:8080/",
          "height": 36
        },
        "id": "UfMfLAxk4rdK",
        "outputId": "60df427e-aaaf-460c-f31c-fa7b5c007a9f"
      },
      "execution_count": 17,
      "outputs": [
        {
          "output_type": "execute_result",
          "data": {
            "text/plain": [
              "'Carlos'"
            ],
            "application/vnd.google.colaboratory.intrinsic+json": {
              "type": "string"
            }
          },
          "metadata": {},
          "execution_count": 17
        }
      ]
    },
    {
      "cell_type": "code",
      "source": [
        "print(familia2['Pai'])"
      ],
      "metadata": {
        "colab": {
          "base_uri": "https://localhost:8080/"
        },
        "id": "wPhL1aDZ4th0",
        "outputId": "ee9aae4a-7924-4bfe-e6e9-11d318b82258"
      },
      "execution_count": 18,
      "outputs": [
        {
          "output_type": "stream",
          "name": "stdout",
          "text": [
            "Carlos\n"
          ]
        }
      ]
    },
    {
      "cell_type": "code",
      "source": [
        "print(familia2['Mae'])"
      ],
      "metadata": {
        "colab": {
          "base_uri": "https://localhost:8080/"
        },
        "id": "KZCf2VED4xdR",
        "outputId": "f83729d5-8dad-4a3a-f8eb-8de97042cf4b"
      },
      "execution_count": 20,
      "outputs": [
        {
          "output_type": "stream",
          "name": "stdout",
          "text": [
            "Maria\n"
          ]
        }
      ]
    },
    {
      "cell_type": "code",
      "source": [
        "len(familia2)"
      ],
      "metadata": {
        "colab": {
          "base_uri": "https://localhost:8080/"
        },
        "id": "lJtwoVYk40WD",
        "outputId": "4df5ca13-c2c5-49db-a932-0956659ee51b"
      },
      "execution_count": 21,
      "outputs": [
        {
          "output_type": "execute_result",
          "data": {
            "text/plain": [
              "3"
            ]
          },
          "metadata": {},
          "execution_count": 21
        }
      ]
    },
    {
      "cell_type": "code",
      "source": [
        "familia2.keys()"
      ],
      "metadata": {
        "colab": {
          "base_uri": "https://localhost:8080/"
        },
        "id": "4QopWiip43Wi",
        "outputId": "376dbdc4-d56a-4a86-9027-0b9948aa02e2"
      },
      "execution_count": 22,
      "outputs": [
        {
          "output_type": "execute_result",
          "data": {
            "text/plain": [
              "dict_keys(['Pai', 'Mae', 'TemFilhos'])"
            ]
          },
          "metadata": {},
          "execution_count": 22
        }
      ]
    },
    {
      "cell_type": "code",
      "source": [
        "familia2.values()"
      ],
      "metadata": {
        "colab": {
          "base_uri": "https://localhost:8080/"
        },
        "id": "5pWUznjn45iO",
        "outputId": "9d1ff19f-0244-4e88-92fd-1258b0d188a6"
      },
      "execution_count": 23,
      "outputs": [
        {
          "output_type": "execute_result",
          "data": {
            "text/plain": [
              "dict_values(['Carlos', 'Maria', True])"
            ]
          },
          "metadata": {},
          "execution_count": 23
        }
      ]
    },
    {
      "cell_type": "code",
      "source": [
        "familia2.values()"
      ],
      "metadata": {
        "colab": {
          "base_uri": "https://localhost:8080/"
        },
        "id": "aPBJNg1E49n_",
        "outputId": "9a9b4e36-6bee-4cda-98d0-8eec1be2bcd1"
      },
      "execution_count": 24,
      "outputs": [
        {
          "output_type": "execute_result",
          "data": {
            "text/plain": [
              "dict_values(['Carlos', 'Maria', True])"
            ]
          },
          "metadata": {},
          "execution_count": 24
        }
      ]
    },
    {
      "cell_type": "code",
      "source": [
        "print(familia2.values())"
      ],
      "metadata": {
        "colab": {
          "base_uri": "https://localhost:8080/"
        },
        "id": "KiX02s9Z4_kU",
        "outputId": "00802310-c4e8-402d-c78d-e0cb034d2136"
      },
      "execution_count": 25,
      "outputs": [
        {
          "output_type": "stream",
          "name": "stdout",
          "text": [
            "dict_values(['Carlos', 'Maria', True])\n"
          ]
        }
      ]
    },
    {
      "cell_type": "code",
      "source": [
        "familia2.items()"
      ],
      "metadata": {
        "colab": {
          "base_uri": "https://localhost:8080/"
        },
        "id": "GPIVBcnXBPsa",
        "outputId": "04b2d8e9-911b-4b34-f94e-e3c4d79bdb7e"
      },
      "execution_count": 26,
      "outputs": [
        {
          "output_type": "execute_result",
          "data": {
            "text/plain": [
              "dict_items([('Pai', 'Carlos'), ('Mae', 'Maria'), ('TemFilhos', True)])"
            ]
          },
          "metadata": {},
          "execution_count": 26
        }
      ]
    },
    {
      "cell_type": "code",
      "source": [
        "print(familia2.items()) "
      ],
      "metadata": {
        "colab": {
          "base_uri": "https://localhost:8080/"
        },
        "id": "Z8iF49kYBQZH",
        "outputId": "e1b699f5-171c-4c78-c5f3-c1101316ede1"
      },
      "execution_count": 27,
      "outputs": [
        {
          "output_type": "stream",
          "name": "stdout",
          "text": [
            "dict_items([('Pai', 'Carlos'), ('Mae', 'Maria'), ('TemFilhos', True)])\n"
          ]
        }
      ]
    },
    {
      "cell_type": "code",
      "source": [
        "familia['Cachorro'] = 'Todd' # Adicionar elementos"
      ],
      "metadata": {
        "id": "cms-hsP8BVWa"
      },
      "execution_count": 28,
      "outputs": []
    },
    {
      "cell_type": "code",
      "source": [
        "familia2.update({'Casa':False, 'Carro':True})"
      ],
      "metadata": {
        "id": "YtwiWiljBfcU"
      },
      "execution_count": 29,
      "outputs": []
    },
    {
      "cell_type": "code",
      "source": [
        "familia2.pop('Carro') # excluir algum elemento"
      ],
      "metadata": {
        "colab": {
          "base_uri": "https://localhost:8080/"
        },
        "id": "OK3C3vr5BkTo",
        "outputId": "51a44b99-1c3f-4d46-eb9d-bb7aaeb6e971"
      },
      "execution_count": 31,
      "outputs": [
        {
          "output_type": "execute_result",
          "data": {
            "text/plain": [
              "True"
            ]
          },
          "metadata": {},
          "execution_count": 31
        }
      ]
    },
    {
      "cell_type": "code",
      "source": [
        "del familia2['Casa'] # excluir alguma chave associada a algum elemento"
      ],
      "metadata": {
        "id": "99TzIinRBmtL"
      },
      "execution_count": 32,
      "outputs": []
    },
    {
      "cell_type": "code",
      "source": [
        "familia2['Cachorro'] = 'Tedy' # modificar o nome da chave"
      ],
      "metadata": {
        "id": "s13CzkcQBo24"
      },
      "execution_count": 33,
      "outputs": []
    },
    {
      "cell_type": "code",
      "source": [
        "'Mae' in familia2"
      ],
      "metadata": {
        "colab": {
          "base_uri": "https://localhost:8080/"
        },
        "id": "awXXC4ZaBrsT",
        "outputId": "cc62d97c-3f28-4c5f-8260-3c637ccc22b1"
      },
      "execution_count": 34,
      "outputs": [
        {
          "output_type": "execute_result",
          "data": {
            "text/plain": [
              "True"
            ]
          },
          "metadata": {},
          "execution_count": 34
        }
      ]
    },
    {
      "cell_type": "code",
      "source": [
        "familia2['Animais'] = {'Cachorro', 'Gato', 'Passarinho'} # Especificar uma lista para essa chave animais"
      ],
      "metadata": {
        "id": "EAaBHxHlBwQq"
      },
      "execution_count": 35,
      "outputs": []
    }
  ]
}