{
  "nbformat": 4,
  "nbformat_minor": 0,
  "metadata": {
    "colab": {
      "name": "Ejemplo MapReduce.ipynb",
      "provenance": [],
      "authorship_tag": "ABX9TyOwTtsqzQX+sKrBlC2T7G7z",
      "include_colab_link": true
    },
    "kernelspec": {
      "name": "python3",
      "display_name": "Python 3"
    },
    "language_info": {
      "name": "python"
    }
  },
  "cells": [
    {
      "cell_type": "markdown",
      "metadata": {
        "id": "view-in-github",
        "colab_type": "text"
      },
      "source": [
        "<a href=\"https://colab.research.google.com/github/DeiseFreire/googleColab/blob/main/Ejemplo_MapReduce.ipynb\" target=\"_parent\"><img src=\"https://colab.research.google.com/assets/colab-badge.svg\" alt=\"Open In Colab\"/></a>"
      ]
    },
    {
      "cell_type": "code",
      "execution_count": null,
      "metadata": {
        "id": "V_9SVhTIaXn-"
      },
      "outputs": [],
      "source": [
        "from pyspark import SparkConf, SparkContext\n",
        "from pyspark.sql.types import StringType\n",
        "from pyspark import SQLContext\n",
        "\n",
        "conf = SparkConf().setMaster(\"local\").setAppName(\"Mi programa\")\n",
        "sc = SparkContext(conf = conf)\n",
        "sqlContext = SQLContext(sc)"
      ]
    },
    {
      "cell_type": "code",
      "source": [
        "lines = sc.textFile(\"ejemple.txt\")\n",
        "#lines = lines.repartition(3)\n",
        "lines.getNumPartitions()"
      ],
      "metadata": {
        "id": "2EqOkXSva5QQ"
      },
      "execution_count": null,
      "outputs": []
    },
    {
      "cell_type": "code",
      "source": [
        "py = sc.accumulator(0)\n",
        "sp = sc.accumulator(0)\n",
        "\n",
        "def lenguajes(linia):\n",
        "    global py, sp\n",
        "    if \"Python\" in linia:\n",
        "       py += 1\n",
        "       if \"Spark\" in linia:\n",
        "          sp += 1\n",
        "       return True\n",
        "    elif \"Spark\" in linia:\n",
        "       sp += 1\n",
        "       return True\n",
        "    else: \n",
        "       return False\n",
        "\n",
        "valores =  lines.filter(lenguajes)"
      ],
      "metadata": {
        "id": "PAEQC1fIbEyH"
      },
      "execution_count": null,
      "outputs": []
    },
    {
      "cell_type": "code",
      "source": [
        "valores.count()"
      ],
      "metadata": {
        "id": "atRvODxObQIm"
      },
      "execution_count": null,
      "outputs": []
    },
    {
      "cell_type": "code",
      "source": [
        "py"
      ],
      "metadata": {
        "id": "dJaPlHIwbVD0"
      },
      "execution_count": null,
      "outputs": []
    },
    {
      "cell_type": "code",
      "source": [
        "sp"
      ],
      "metadata": {
        "id": "IMVz9SefbZBV"
      },
      "execution_count": null,
      "outputs": []
    },
    {
      "cell_type": "code",
      "source": [
        "funcionmap = valores.map(lambda x: (x,1))"
      ],
      "metadata": {
        "id": "Ck4Esy_-bcn3"
      },
      "execution_count": null,
      "outputs": []
    },
    {
      "cell_type": "code",
      "source": [
        "contarvalores = funcionmap.reduceByKey(lambda x,y: x+y)"
      ],
      "metadata": {
        "id": "PXv9s8zWbquY"
      },
      "execution_count": null,
      "outputs": []
    },
    {
      "cell_type": "code",
      "source": [
        "contarvalores.count()"
      ],
      "metadata": {
        "id": "VX9mPJV6btW4"
      },
      "execution_count": null,
      "outputs": []
    },
    {
      "cell_type": "code",
      "source": [
        "contarvalores.sortBy(lambda x: x[1],ascending=False).take(5)"
      ],
      "metadata": {
        "id": "5IVAlFRQbwXA"
      },
      "execution_count": null,
      "outputs": []
    },
    {
      "cell_type": "code",
      "source": [
        "def lenguajes_map(x):\n",
        "    if \"Python\" in x and \"Spark\" in x:\n",
        "        return (\"Count\",(1,1))\n",
        "    elif \"Python\" in x:\n",
        "        return (\"Count\",(1,0))\n",
        "    elif \"Spark\" in x:\n",
        "        return (\"Count\",(0,1))\n",
        "    else:\n",
        "        return (\"Count\",(0,0))\n",
        "\n",
        "return = lines.map(leguajes_map)"
      ],
      "metadata": {
        "id": "ImmBto1AcDnj"
      },
      "execution_count": null,
      "outputs": []
    },
    {
      "cell_type": "code",
      "source": [
        "mapfun.count()"
      ],
      "metadata": {
        "id": "1ufq68qFcHCX"
      },
      "execution_count": null,
      "outputs": []
    },
    {
      "cell_type": "code",
      "source": [
        "lines.count()"
      ],
      "metadata": {
        "id": "OyRaDvW6cJft"
      },
      "execution_count": null,
      "outputs": []
    },
    {
      "cell_type": "code",
      "source": [
        "map.reduceByKey(lambda x,y: (x[0]+y[0], x[1]+y[1])).collect()"
      ],
      "metadata": {
        "id": "IGnhO0AAcMdh"
      },
      "execution_count": null,
      "outputs": []
    }
  ]
}