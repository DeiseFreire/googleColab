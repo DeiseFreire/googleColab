#
# Fonte da ideia:
# CURSO python com google colab criando um sistema de supermercado - parte 12 (projeto final #2). Produção [s. n.] . 
# Publicado por. São Paulo: [S. l.], 2020. C&S Analytics. 1 videoaula (23 mins. 27 segs.). Youtube.
# 

import os 
import csv
from csv import DictReader, DictWriter 

with open('fornecedor.csv', 'w') as arquivo:
   colunas = ['Nome', 'Produto', 'Quantidade', 'Valor']
   escreve = DictWriter(arquivo, fieldnames=colunas)
   escreve.writeheader()
   escreve.writeheader()
   escreve.writerow({"Nome": "Hussein", 
                    "Produto": "laranja", 
                    "Quantidade": 20, 
                    "Valor": 50 
                     })
   
   escreve.writerow({"Nome": "Onur", 
                    "Produto": "laranja", 
                    "Quantidade": 20, 
                    "Valor": 50 
                     })
                     
  with open('fornecedor.csv') as arquivo:
  leitura = DictReader(arquivo, delimiter=",")
  for linha in leitura:
    print(linha['Nome'] + "-" + linha['Produto'])
    
filename = r'fornecedor.csv'
os.path.exists(filename)

with open('fornecedor.csv', 'a') as arquivo:
  escreve = csv.writer(arquivo, delimiter=",")
  with open('fornecedor.csv', 'a') as arquivo:
    escreve = csv.writer(arquivo, delimiter=",")
    escreve.writerow(['Mustafá',
                      'morango',
                      10,
                       5
                     ])
                     
   with open('fornecedor.csv', 'r') as arquivo:
   colunas = csv.DictReader(arquivo)
   campos = colunas.fieldnames
   print(campos)
