{
  "nbformat": 4,
  "nbformat_minor": 0,
  "metadata": {
    "colab": {
      "name": "API Mercado Bitcoin com Python.ipynb",
      "provenance": [],
      "authorship_tag": "ABX9TyPixuQ9/4I0w4arTNk2JEco",
      "include_colab_link": true
    },
    "kernelspec": {
      "name": "python3",
      "display_name": "Python 3"
    },
    "language_info": {
      "name": "python"
    }
  },
  "cells": [
    {
      "cell_type": "markdown",
      "metadata": {
        "id": "view-in-github",
        "colab_type": "text"
      },
      "source": [
        "<a href=\"https://colab.research.google.com/github/DeiseFreire/googleColab/blob/main/API_Mercado_Bitcoin_com_Python.ipynb\" target=\"_parent\"><img src=\"https://colab.research.google.com/assets/colab-badge.svg\" alt=\"Open In Colab\"/></a>"
      ]
    },
    {
      "cell_type": "code",
      "execution_count": 3,
      "metadata": {
        "colab": {
          "base_uri": "https://localhost:8080/"
        },
        "id": "sW-foZxAdVQO",
        "outputId": "379399bb-2362-41b7-9d0b-cb49060734d7"
      },
      "outputs": [
        {
          "output_type": "stream",
          "name": "stdout",
          "text": [
            "{'ticker': {'high': '14766.18979000', 'low': '14282.70000000', 'vol': '196.62859974', 'last': '14451.89004000', 'buy': '14451.89004', 'sell': '14451.89997999', 'open': '14557.66761999', 'date': 1647899520}}\n"
          ]
        }
      ],
      "source": [
        "import requests\n",
        "\n",
        "def get_ticks(moeda='BTC',metodo='ticker'): #função get_ticks, parâmetro pré-definido da função, método ticker. Função para coletar, ticks para coletar preços de ativos de criptomoedas\n",
        "\n",
        "    url_base = f'https://www.mercadobitcoin.net/api/{moeda}/{metodo}/' #url com atribuição de dois parâmetros 'moeda' e 'método' que é o tipo de requisição\n",
        "    r = requests.get(url_base)\n",
        "    return r.json() #transformo em um tipo json\n",
        "\n",
        "d = get_ticks('ETH') #moeda padrão\n",
        "\n",
        "print(d) # para mostrar os dados de d\n"
      ]
    }
  ]
}