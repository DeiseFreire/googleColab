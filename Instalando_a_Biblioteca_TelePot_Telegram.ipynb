{
  "nbformat": 4,
  "nbformat_minor": 0,
  "metadata": {
    "colab": {
      "name": "Instalando a Biblioteca TelePot Telegram.ipynb",
      "provenance": [],
      "authorship_tag": "ABX9TyOc1ktmP/0gG3CGA/fQNaJy",
      "include_colab_link": true
    },
    "kernelspec": {
      "name": "python3",
      "display_name": "Python 3"
    },
    "language_info": {
      "name": "python"
    }
  },
  "cells": [
    {
      "cell_type": "markdown",
      "metadata": {
        "id": "view-in-github",
        "colab_type": "text"
      },
      "source": [
        "<a href=\"https://colab.research.google.com/github/DeiseFreire/googleColab/blob/main/Instalando_a_Biblioteca_TelePot_Telegram.ipynb\" target=\"_parent\"><img src=\"https://colab.research.google.com/assets/colab-badge.svg\" alt=\"Open In Colab\"/></a>"
      ]
    },
    {
      "cell_type": "markdown",
      "source": [
        "**`coding: utf-8`**\n",
        "\n",
        "**`@author: Deise Freire`**\n",
        "\n",
        "**`Referências:`**\n",
        "\n",
        "**`https://telepot.readthedocs.io/en/latest/`**\n",
        "\n",
        "**`https://telepot.readthedocs.io/en/latest/#async-version-python-3-5`**\n",
        "\n",
        "**`Nome do Robô: Brazil ZIP Codes, Films and Cryptocurrencies`**\n",
        "\n",
        "**`ESTUDO DA BIBLIOTECA TELEPOT - TELEGRAM`**"
      ],
      "metadata": {
        "id": "hQVhEH_FyS2g"
      }
    },
    {
      "cell_type": "code",
      "source": [
        "pip install telepot"
      ],
      "metadata": {
        "colab": {
          "base_uri": "https://localhost:8080/"
        },
        "id": "dYrt4OecCphy",
        "outputId": "456892ad-9fce-4e70-aa52-eed18699f7b3"
      },
      "execution_count": 3,
      "outputs": [
        {
          "output_type": "stream",
          "name": "stdout",
          "text": [
            "Collecting telepot\n",
            "  Downloading telepot-12.7.tar.gz (73 kB)\n",
            "\u001b[?25l\r\u001b[K     |████▌                           | 10 kB 22.7 MB/s eta 0:00:01\r\u001b[K     |█████████                       | 20 kB 12.0 MB/s eta 0:00:01\r\u001b[K     |█████████████▍                  | 30 kB 8.7 MB/s eta 0:00:01\r\u001b[K     |██████████████████              | 40 kB 3.8 MB/s eta 0:00:01\r\u001b[K     |██████████████████████▍         | 51 kB 3.8 MB/s eta 0:00:01\r\u001b[K     |██████████████████████████▉     | 61 kB 4.5 MB/s eta 0:00:01\r\u001b[K     |███████████████████████████████▍| 71 kB 5.0 MB/s eta 0:00:01\r\u001b[K     |████████████████████████████████| 73 kB 1.2 MB/s \n",
            "\u001b[?25hRequirement already satisfied: urllib3>=1.9.1 in /usr/local/lib/python3.7/dist-packages (from telepot) (1.24.3)\n",
            "Collecting aiohttp>=3.0.0\n",
            "  Downloading aiohttp-3.8.1-cp37-cp37m-manylinux_2_5_x86_64.manylinux1_x86_64.manylinux_2_12_x86_64.manylinux2010_x86_64.whl (1.1 MB)\n",
            "\u001b[K     |████████████████████████████████| 1.1 MB 9.0 MB/s \n",
            "\u001b[?25hRequirement already satisfied: charset-normalizer<3.0,>=2.0 in /usr/local/lib/python3.7/dist-packages (from aiohttp>=3.0.0->telepot) (2.0.12)\n",
            "Requirement already satisfied: typing-extensions>=3.7.4 in /usr/local/lib/python3.7/dist-packages (from aiohttp>=3.0.0->telepot) (3.10.0.2)\n",
            "Collecting asynctest==0.13.0\n",
            "  Downloading asynctest-0.13.0-py3-none-any.whl (26 kB)\n",
            "Requirement already satisfied: attrs>=17.3.0 in /usr/local/lib/python3.7/dist-packages (from aiohttp>=3.0.0->telepot) (21.4.0)\n",
            "Collecting frozenlist>=1.1.1\n",
            "  Downloading frozenlist-1.3.0-cp37-cp37m-manylinux_2_5_x86_64.manylinux1_x86_64.manylinux_2_17_x86_64.manylinux2014_x86_64.whl (144 kB)\n",
            "\u001b[K     |████████████████████████████████| 144 kB 55.2 MB/s \n",
            "\u001b[?25hCollecting async-timeout<5.0,>=4.0.0a3\n",
            "  Downloading async_timeout-4.0.2-py3-none-any.whl (5.8 kB)\n",
            "Collecting aiosignal>=1.1.2\n",
            "  Downloading aiosignal-1.2.0-py3-none-any.whl (8.2 kB)\n",
            "Collecting yarl<2.0,>=1.0\n",
            "  Downloading yarl-1.7.2-cp37-cp37m-manylinux_2_5_x86_64.manylinux1_x86_64.manylinux_2_12_x86_64.manylinux2010_x86_64.whl (271 kB)\n",
            "\u001b[K     |████████████████████████████████| 271 kB 47.0 MB/s \n",
            "\u001b[?25hCollecting multidict<7.0,>=4.5\n",
            "  Downloading multidict-6.0.2-cp37-cp37m-manylinux_2_17_x86_64.manylinux2014_x86_64.whl (94 kB)\n",
            "\u001b[K     |████████████████████████████████| 94 kB 3.6 MB/s \n",
            "\u001b[?25hRequirement already satisfied: idna>=2.0 in /usr/local/lib/python3.7/dist-packages (from yarl<2.0,>=1.0->aiohttp>=3.0.0->telepot) (2.10)\n",
            "Building wheels for collected packages: telepot\n",
            "  Building wheel for telepot (setup.py) ... \u001b[?25l\u001b[?25hdone\n",
            "  Created wheel for telepot: filename=telepot-12.7-py3-none-any.whl size=57961 sha256=327bb388a3e2913d51e960fe69f3a5f331da9496e0745dada1ff17b8a2dc601c\n",
            "  Stored in directory: /root/.cache/pip/wheels/59/4d/ea/8781198a69408b6c37d47d902d7bbe5541969eddf5290e6b2e\n",
            "Successfully built telepot\n",
            "Installing collected packages: multidict, frozenlist, yarl, asynctest, async-timeout, aiosignal, aiohttp, telepot\n",
            "Successfully installed aiohttp-3.8.1 aiosignal-1.2.0 async-timeout-4.0.2 asynctest-0.13.0 frozenlist-1.3.0 multidict-6.0.2 telepot-12.7 yarl-1.7.2\n"
          ]
        }
      ]
    },
    {
      "cell_type": "code",
      "source": [
        "import telepot\n",
        "\n",
        "token = '{token}'\n",
        "\n",
        "bot = telepot.Bot(token)\n",
        "\n",
        "print(bot.getMe())"
      ],
      "metadata": {
        "colab": {
          "base_uri": "https://localhost:8080/"
        },
        "id": "WiDa1AUVyY3a",
        "outputId": "cd8800d2-2235-40e5-a652-a50c3aee3094"
      },
      "execution_count": 4,
      "outputs": [
        {
          "output_type": "stream",
          "name": "stdout",
          "text": [
            "{'id': 5272378989, 'is_bot': True, 'first_name': 'Brazil ZIP Codes, Films and Cryptocurrencies', 'username': 'Price_Richard_Bot', 'can_join_groups': True, 'can_read_all_group_messages': False, 'supports_inline_queries': False}\n"
          ]
        }
      ]
    }
  ]
}