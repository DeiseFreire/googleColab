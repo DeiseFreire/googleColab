{
  "nbformat": 4,
  "nbformat_minor": 0,
  "metadata": {
    "colab": {
      "name": "Funcoes.ipynb",
      "provenance": [],
      "authorship_tag": "ABX9TyOAwCvwXhnHOttXMVDkkprB",
      "include_colab_link": true
    },
    "kernelspec": {
      "name": "python3",
      "display_name": "Python 3"
    },
    "language_info": {
      "name": "python"
    }
  },
  "cells": [
    {
      "cell_type": "markdown",
      "metadata": {
        "id": "view-in-github",
        "colab_type": "text"
      },
      "source": [
        "<a href=\"https://colab.research.google.com/github/DeiseFreire/googleColab/blob/main/Funcoes.ipynb\" target=\"_parent\"><img src=\"https://colab.research.google.com/assets/colab-badge.svg\" alt=\"Open In Colab\"/></a>"
      ]
    },
    {
      "cell_type": "markdown",
      "source": [
        "**`Revisão de Funções`**"
      ],
      "metadata": {
        "id": "79Fqens8K1nr"
      }
    },
    {
      "cell_type": "code",
      "execution_count": 8,
      "metadata": {
        "id": "woyUt6VLKuKP"
      },
      "outputs": [],
      "source": [
        "def um(): # palavra reservada def, 1 função sem argumento de entrada, dois são pontos obrigatórios\n",
        "   x = 1\n",
        "   print(x) # função print já presente na linguagem python\n",
        "   dois(x) # função dois definida abaixo\n",
        "   print(x)"
      ]
    },
    {
      "cell_type": "code",
      "source": [
        "def dois(y): # entra um argumento y\n",
        "  print(y) # mostra na tela\n",
        "  y = 2\n",
        "  print(y)"
      ],
      "metadata": {
        "id": "WjtgJ8jDM1a5"
      },
      "execution_count": 9,
      "outputs": []
    },
    {
      "cell_type": "code",
      "source": [
        "um()"
      ],
      "metadata": {
        "colab": {
          "base_uri": "https://localhost:8080/"
        },
        "id": "z1Zs-FQkNAQ2",
        "outputId": "6e46b8c0-cd6f-421a-ad42-7a050920f1e1"
      },
      "execution_count": 10,
      "outputs": [
        {
          "output_type": "stream",
          "name": "stdout",
          "text": [
            "1\n",
            "1\n",
            "2\n",
            "1\n"
          ]
        }
      ]
    }
  ]
}