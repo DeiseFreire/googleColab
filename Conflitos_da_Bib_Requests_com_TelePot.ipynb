{
  "nbformat": 4,
  "nbformat_minor": 0,
  "metadata": {
    "colab": {
      "name": "Conflitos da Bib Requests com TelePot.ipynb",
      "provenance": [],
      "authorship_tag": "ABX9TyOlb90+TRMDL5e8iFioDCR2",
      "include_colab_link": true
    },
    "kernelspec": {
      "name": "python3",
      "display_name": "Python 3"
    },
    "language_info": {
      "name": "python"
    }
  },
  "cells": [
    {
      "cell_type": "markdown",
      "metadata": {
        "id": "view-in-github",
        "colab_type": "text"
      },
      "source": [
        "<a href=\"https://colab.research.google.com/github/DeiseFreire/googleColab/blob/main/Conflitos_da_Bib_Requests_com_TelePot.ipynb\" target=\"_parent\"><img src=\"https://colab.research.google.com/assets/colab-badge.svg\" alt=\"Open In Colab\"/></a>"
      ]
    },
    {
      "cell_type": "markdown",
      "source": [
        "**`coding: utf-8`**\n",
        "\n",
        "**`@author: Deise Freire`**\n",
        "\n",
        "**`Referências:`**\n",
        "\n",
        "**`https://telepot.readthedocs.io/en/latest/`**\n",
        "\n",
        "**`https://telepot.readthedocs.io/en/latest/#async-version-python-3-5`**\n",
        "\n",
        "\n",
        "**`ESTUDO DA BIBLIOTECA TELEPOT - TELEGRAM`**"
      ],
      "metadata": {
        "id": "25fUccEq08k9"
      }
    },
    {
      "cell_type": "code",
      "source": [
        "pip install telepot"
      ],
      "metadata": {
        "id": "CI4tusvq1Lwu"
      },
      "execution_count": null,
      "outputs": []
    },
    {
      "cell_type": "code",
      "execution_count": null,
      "metadata": {
        "id": "6BkBrzVN06mG"
      },
      "outputs": [],
      "source": [
        "import sys\n",
        "import json\n",
        "import urllib.request\n",
        "import time\n",
        "import telepot\n",
        "from telepot.loop import MessageLoop\n",
        "from telepot.namedtuple import InlineKeyboardMarkup, InlineKeyboardButton\n",
        "# import requests"
      ]
    },
    {
      "cell_type": "code",
      "source": [
        "TOKEN = '{token}'\n",
        "\n",
        "bot = telepot.Bot(TOKEN)\n",
        "\n",
        "def on_chat_message(msg):\n",
        "    content_type, chat_type, chat_id = telepot.glance(msg)\n",
        "\n",
        "    keyboard = InlineKeyboardMarkup(inline_keyboard=[[InlineKeyboardButton(text='Rua', callback_data='logradouro'),\n",
        "                                                      InlineKeyboardButton(text='Estado', callback_data='uf'),\n",
        "                                                      InlineKeyboardButton(text='Bairro', callback_data='bairro'),\n",
        "                                                      InlineKeyboardButton(text='DDD', callback_data='ddd')],\n",
        "                                                     ])\n",
        "    bot.sendMessage(chat_id, 'Escolha a opção abaixo: ', reply_markup=keyboard)\n",
        "\n",
        "def on_callback_query(msg):\n",
        "\n",
        "    query_id, from_id, query_data = telepot.glance(msg, flavor='callback_query')\n",
        "    print('Callback Query:', query_id, from_id, query_data)\n",
        "\n",
        "    d = get_info_cep(\"01001000\")\n",
        "    bot.answerCallbackQuery(query_id, text=\"Apertou em \"+str(query_data)+\" = \"+d[str(query_data)] )\n",
        "\n",
        "def get_info_cep(cep):\n",
        "    url_base = f'https://viacep.com.br/ws/{cep}/json/'\n",
        "    resp = urllib.request.urlopen(url_base)\n",
        "    return json.load(resp)\n",
        "\n",
        "MessageLoop(bot, {'chat': on_chat_message,\n",
        "                  'callback_query': on_callback_query}).run_as_thread()\n",
        "print('listening ...')\n",
        "\n",
        "while 1:\n",
        "    time.sleep(10)"
      ],
      "metadata": {
        "id": "Om3GAn7e1Ham"
      },
      "execution_count": null,
      "outputs": []
    }
  ]
}