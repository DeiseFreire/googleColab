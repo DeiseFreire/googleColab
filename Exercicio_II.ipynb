{
  "nbformat": 4,
  "nbformat_minor": 0,
  "metadata": {
    "colab": {
      "name": "Exercicio II.ipynb",
      "provenance": [],
      "authorship_tag": "ABX9TyPWJs54HLJpIMvV2y/TmEkU",
      "include_colab_link": true
    },
    "kernelspec": {
      "name": "python3",
      "display_name": "Python 3"
    },
    "language_info": {
      "name": "python"
    }
  },
  "cells": [
    {
      "cell_type": "markdown",
      "metadata": {
        "id": "view-in-github",
        "colab_type": "text"
      },
      "source": [
        "<a href=\"https://colab.research.google.com/github/DeiseFreire/googleColab/blob/main/Exercicio_II.ipynb\" target=\"_parent\"><img src=\"https://colab.research.google.com/assets/colab-badge.svg\" alt=\"Open In Colab\"/></a>"
      ]
    },
    {
      "cell_type": "markdown",
      "source": [
        "**`Clustering`**"
      ],
      "metadata": {
        "id": "nYVcE9kk-Kg_"
      }
    },
    {
      "cell_type": "code",
      "execution_count": null,
      "metadata": {
        "id": "3bj82NE6-Hox"
      },
      "outputs": [],
      "source": [
        "import pandas as pd\n",
        "import numpy as np\n",
        "import matplotlib.pyplot as plt"
      ]
    },
    {
      "cell_type": "code",
      "source": [
        "df = pd.read_csv(\"C:/Users/booth04-mgr2/Desktop/python/data/2008.csv\")"
      ],
      "metadata": {
        "id": "ygzwNsOl-dWE"
      },
      "execution_count": null,
      "outputs": []
    },
    {
      "cell_type": "code",
      "source": [
        "df = df.dropna(subset=[\"Distance\",\"ArrDelay\"])"
      ],
      "metadata": {
        "id": "byy8JAow-iJS"
      },
      "execution_count": null,
      "outputs": []
    },
    {
      "cell_type": "code",
      "source": [
        "df = df[df.ArrDelay > 120]"
      ],
      "metadata": {
        "id": "2NhMz-S--nA0"
      },
      "execution_count": null,
      "outputs": []
    },
    {
      "cell_type": "code",
      "source": [
        "from sklearn.cluster import KMeans\n",
        "kmeans = KMeans(n_clusters=6,n_jobs = -1).fit(df[[\"ArrDelay\",\"Distance\"]])\n",
        "plt.scatter(df[\"ArrDelay\"],df[\"Distance\"],c = kemans.labels_)\n",
        "plt.xlabel(\"Retraso\")\n",
        "plt.ylabel(\"Distance\")\n",
        "plt.show()"
      ],
      "metadata": {
        "id": "e5vJYRnK-zNi"
      },
      "execution_count": null,
      "outputs": []
    },
    {
      "cell_type": "code",
      "source": [
        "kmeans.cluster_centers_"
      ],
      "metadata": {
        "id": "gHsJXRz9-37l"
      },
      "execution_count": null,
      "outputs": []
    },
    {
      "cell_type": "code",
      "source": [
        "df[\"Group\"] = kmeans.labels_"
      ],
      "metadata": {
        "id": "ntCSuEFA-7sE"
      },
      "execution_count": null,
      "outputs": []
    },
    {
      "cell_type": "code",
      "source": [
        "dfgroup = df[df[\"Group\"] == 5]"
      ],
      "metadata": {
        "id": "l2WT4zVp_AtY"
      },
      "execution_count": null,
      "outputs": []
    },
    {
      "cell_type": "code",
      "source": [
        "dfgroup.groupby([\"DayOfWeek\"])[\"DepDelay\"].describe()"
      ],
      "metadata": {
        "id": "oOWnKiGM_ESz"
      },
      "execution_count": null,
      "outputs": []
    },
    {
      "cell_type": "markdown",
      "source": [
        "**`Modelización`**"
      ],
      "metadata": {
        "id": "UOT7b8zn_RNK"
      }
    },
    {
      "cell_type": "code",
      "source": [
        "dfgroup.columns"
      ],
      "metadata": {
        "id": "UbKptpQV_THq"
      },
      "execution_count": null,
      "outputs": []
    },
    {
      "cell_type": "code",
      "source": [
        "dfgroup[\"Month\"] = dfgroup[\"Month\"].apply(str)\n",
        "dfgroup[\"DayofMonth\"] = dfgroup[\"DayofMonth\"].apply(str)\n",
        "dfgroup[\"DayofWeek\"] = dfgroup[\"DayOfWeek\"].apply(str)"
      ],
      "metadata": {
        "id": "gAdo5s4x_WYR"
      },
      "execution_count": null,
      "outputs": []
    },
    {
      "cell_type": "code",
      "source": [
        "X = pd.get_dummies(dfgroup[['Month', 'DayofMonth', 'DayOfWeek','UniqueCarrier','Origin','Dest']])"
      ],
      "metadata": {
        "id": "cuZsI3Fy_aKt"
      },
      "execution_count": null,
      "outputs": []
    },
    {
      "cell_type": "code",
      "source": [
        "X = X.add(dfgroup[['TaxiIn','TaxiOut','DepTime']],fill_value=0)"
      ],
      "metadata": {
        "id": "pJ_3rKNS_eTx"
      },
      "execution_count": null,
      "outputs": []
    },
    {
      "cell_type": "code",
      "source": [
        "from sklearn.ensemble import RandomForestRegressor"
      ],
      "metadata": {
        "id": "XT5UhoQo_io7"
      },
      "execution_count": null,
      "outputs": []
    },
    {
      "cell_type": "code",
      "source": [
        "clf = RandomForestRegressor(n_estimators=1000,n_jobs=-1).fit(X,dfgroup[\"ArrDelay\"])\n",
        "importance=clf.feature_importances_"
      ],
      "metadata": {
        "id": "IM_I4gA4_l03"
      },
      "execution_count": null,
      "outputs": []
    },
    {
      "cell_type": "code",
      "source": [
        "importance"
      ],
      "metadata": {
        "id": "OX3IeVkD_rB-"
      },
      "execution_count": null,
      "outputs": []
    },
    {
      "cell_type": "code",
      "source": [
        "X.columns[importance == max(importance)]"
      ],
      "metadata": {
        "id": "O1kQNy_Q_t7E"
      },
      "execution_count": null,
      "outputs": []
    },
    {
      "cell_type": "code",
      "source": [
        "np.corrcoef(dfgroup[\"DepTime\"],dfgroup[\"ArrDelay\"])"
      ],
      "metadata": {
        "id": "_quRsiJp_wNA"
      },
      "execution_count": null,
      "outputs": []
    }
  ]
}