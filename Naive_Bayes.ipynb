{
  "nbformat": 4,
  "nbformat_minor": 0,
  "metadata": {
    "colab": {
      "name": "Naive Bayes.ipynb",
      "provenance": [],
      "authorship_tag": "ABX9TyNQ5KliL0dnRqQqZsBzNSTg",
      "include_colab_link": true
    },
    "kernelspec": {
      "name": "python3",
      "display_name": "Python 3"
    },
    "language_info": {
      "name": "python"
    }
  },
  "cells": [
    {
      "cell_type": "markdown",
      "metadata": {
        "id": "view-in-github",
        "colab_type": "text"
      },
      "source": [
        "<a href=\"https://colab.research.google.com/github/DeiseFreire/googleColab/blob/main/Naive_Bayes.ipynb\" target=\"_parent\"><img src=\"https://colab.research.google.com/assets/colab-badge.svg\" alt=\"Open In Colab\"/></a>"
      ]
    },
    {
      "cell_type": "code",
      "execution_count": null,
      "metadata": {
        "id": "vZ_wz2Lkc6yy"
      },
      "outputs": [],
      "source": [
        "from sklearn.naive_bayes import BernoulliNB\n",
        "from sklearn.naive_bayes import MultinomialNB\n",
        "from sklearn.naive_bayes import GaussianNB\n",
        "import numpy as np\n",
        "import pandas as pd"
      ]
    },
    {
      "cell_type": "code",
      "source": [
        "df = pd.read_csv(\"C:/Users/booth04-mgr2/Desktop/python/data/2008.csv\")\n",
        "df = df.sample(frac=1)\n",
        "df = df.head(500000)"
      ],
      "metadata": {
        "id": "B4RhOiXac_Ew"
      },
      "execution_count": null,
      "outputs": []
    },
    {
      "cell_type": "code",
      "source": [
        "df = df.dropna(subset=[\"ArrDelay\"])"
      ],
      "metadata": {
        "id": "3Unc-fGmdBkv"
      },
      "execution_count": null,
      "outputs": []
    },
    {
      "cell_type": "code",
      "source": [
        "Y = df[\"ArrDelay\"] > 0"
      ],
      "metadata": {
        "id": "QM2Yf3tQdJis"
      },
      "execution_count": null,
      "outputs": []
    },
    {
      "cell_type": "code",
      "source": [
        "df[\"Month\"] = df[\"Month\"].apply(str)\n",
        "df[\"DayofMonth\"] = df[\"DayofMonth\"].apply(str)\n",
        "df[\"DayOfWeek\"] = df[\"DayOfWeek\"].apply(str)\n",
        "df[\"TailNum\"] = df[\"TailNum\"].apply(str)\n",
        "\n",
        "X = pd.get_dummies(data=df[['Month', 'DayofMonth', 'DayOfWeek','Origin','Dest','UniqueCarrier']])"
      ],
      "metadata": {
        "id": "vImgL332dKOK"
      },
      "execution_count": null,
      "outputs": []
    },
    {
      "cell_type": "code",
      "source": [
        "X.head()"
      ],
      "metadata": {
        "id": "j1n62RWgdR3G"
      },
      "execution_count": null,
      "outputs": []
    },
    {
      "cell_type": "code",
      "source": [
        "clf = BernoulliNB()\n",
        "#clf = MultinomialNB()\n",
        "clf.fit(X, Y)\n",
        "Y_pred = clf.predict(X)"
      ],
      "metadata": {
        "id": "9B2vLSOzg-vb"
      },
      "execution_count": null,
      "outputs": []
    },
    {
      "cell_type": "code",
      "source": [
        "np.mean(Y == Y_pred)"
      ],
      "metadata": {
        "id": "FubMY1y4g_qp"
      },
      "execution_count": null,
      "outputs": []
    },
    {
      "cell_type": "code",
      "source": [
        "1 - np.mean(Y)"
      ],
      "metadata": {
        "id": "BeF_fPPghIBb"
      },
      "execution_count": null,
      "outputs": []
    },
    {
      "cell_type": "code",
      "source": [
        "X = df[['AirTime','Distance','TaxiIn','TaxiOut']] #DepDelay\n",
        "clf = GaussianNB()\n",
        "clf.fit(X, Y)\n",
        "Y_pred = clf.predict(X)"
      ],
      "metadata": {
        "id": "psfwWXNGhNIu"
      },
      "execution_count": null,
      "outputs": []
    },
    {
      "cell_type": "code",
      "source": [
        "np.mean(Y == Y_pred)"
      ],
      "metadata": {
        "id": "Bx79r3SohOZg"
      },
      "execution_count": null,
      "outputs": []
    }
  ]
}