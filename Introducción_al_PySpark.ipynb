{
  "nbformat": 4,
  "nbformat_minor": 0,
  "metadata": {
    "colab": {
      "name": "Introducción al PySpark.ipynb",
      "provenance": [],
      "authorship_tag": "ABX9TyMz4+sqCBvOahQzO1MLrTWj",
      "include_colab_link": true
    },
    "kernelspec": {
      "name": "python3",
      "display_name": "Python 3"
    },
    "language_info": {
      "name": "python"
    }
  },
  "cells": [
    {
      "cell_type": "markdown",
      "metadata": {
        "id": "view-in-github",
        "colab_type": "text"
      },
      "source": [
        "<a href=\"https://colab.research.google.com/github/DeiseFreire/googleColab/blob/main/Introducci%C3%B3n_al_PySpark.ipynb\" target=\"_parent\"><img src=\"https://colab.research.google.com/assets/colab-badge.svg\" alt=\"Open In Colab\"/></a>"
      ]
    },
    {
      "cell_type": "code",
      "execution_count": null,
      "metadata": {
        "id": "7MAmm_10SWsl"
      },
      "outputs": [],
      "source": [
        "from pyspark import SparkConf, SparkContext\n",
        "conf = SparkConf().setMaster(\"local\").setAppName(\"Mi programa\")\n",
        "sc = SparkContext(conf = conf)\n",
        "lines = sc.textFile(\"ejemplo.txt\")"
      ]
    },
    {
      "cell_type": "code",
      "source": [
        "resultado = lines.filter(lambda line: \"Python\" in line)\n",
        "#resultado"
      ],
      "metadata": {
        "id": "IKOatbl_Shzc"
      },
      "execution_count": null,
      "outputs": []
    },
    {
      "cell_type": "code",
      "source": [
        "resultado.count()"
      ],
      "metadata": {
        "id": "HadpZEMISkzL"
      },
      "execution_count": null,
      "outputs": []
    },
    {
      "cell_type": "code",
      "source": [
        "resultado.take(3)"
      ],
      "metadata": {
        "id": "cF-jBeVuSxK3"
      },
      "execution_count": null,
      "outputs": []
    },
    {
      "cell_type": "code",
      "source": [
        "lines.filter(lambda x: int() inx).take(2)"
      ],
      "metadata": {
        "id": "BgJtNoW9SzE5"
      },
      "execution_count": null,
      "outputs": []
    },
    {
      "cell_type": "code",
      "source": [
        "lines.filter(lambda x: any(i.isdigit() for i in x)).take(5)"
      ],
      "metadata": {
        "id": "2CyF2h5tS4YO"
      },
      "execution_count": null,
      "outputs": []
    },
    {
      "cell_type": "code",
      "source": [
        "lines.filter(lambda x: not any(i.isdigit() for i in x)).take(5)"
      ],
      "metadata": {
        "id": "x-mFbH3NS7Y9"
      },
      "execution_count": null,
      "outputs": []
    },
    {
      "cell_type": "code",
      "source": [
        "lines.filter(lambda x: any(i.isdigit() for i in x)).count()"
      ],
      "metadata": {
        "id": "SU7QcKyPS9Lj"
      },
      "execution_count": null,
      "outputs": []
    },
    {
      "cell_type": "code",
      "source": [
        "numeros = lines.filter(lambda x: any(i.isdigit() for i in x))"
      ],
      "metadata": {
        "id": "LTkHo0kWTATD"
      },
      "execution_count": null,
      "outputs": []
    },
    {
      "cell_type": "code",
      "source": [
        ""
      ],
      "metadata": {
        "id": "V0qaFkbkTCnu"
      },
      "execution_count": null,
      "outputs": []
    }
  ]
}