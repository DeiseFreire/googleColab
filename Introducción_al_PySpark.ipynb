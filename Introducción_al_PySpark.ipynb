{
  "nbformat": 4,
  "nbformat_minor": 0,
  "metadata": {
    "colab": {
      "name": "Introducción al PySpark.ipynb",
      "provenance": [],
      "authorship_tag": "ABX9TyM88rl76nZiJrgmgpJgvnRY",
      "include_colab_link": true
    },
    "kernelspec": {
      "name": "python3",
      "display_name": "Python 3"
    },
    "language_info": {
      "name": "python"
    }
  },
  "cells": [
    {
      "cell_type": "markdown",
      "metadata": {
        "id": "view-in-github",
        "colab_type": "text"
      },
      "source": [
        "<a href=\"https://colab.research.google.com/github/DeiseFreire/googleColab/blob/main/Introducci%C3%B3n_al_PySpark.ipynb\" target=\"_parent\"><img src=\"https://colab.research.google.com/assets/colab-badge.svg\" alt=\"Open In Colab\"/></a>"
      ]
    },
    {
      "cell_type": "code",
      "execution_count": null,
      "metadata": {
        "id": "5X35FwKLoSmh"
      },
      "outputs": [],
      "source": [
        "from pyspark import SparkConf, SparkContext\n",
        "conf = SparkConf().setMaster(\"local\").setAppName(\"Mi programa\")\n",
        "sc = SparkContext(conf = conf)\n",
        "sc"
      ]
    },
    {
      "cell_type": "code",
      "source": [
        "lines = sc.textfile(\"ejemplo.txt\")\n",
        "lines "
      ],
      "metadata": {
        "id": "tPdW16iuoYEK"
      },
      "execution_count": null,
      "outputs": []
    },
    {
      "cell_type": "code",
      "source": [
        "lines.count()"
      ],
      "metadata": {
        "id": "tc4y0SjxpTru"
      },
      "execution_count": null,
      "outputs": []
    },
    {
      "cell_type": "code",
      "source": [
        "lines.firts()"
      ],
      "metadata": {
        "id": "-9VtYGALpXS9"
      },
      "execution_count": null,
      "outputs": []
    },
    {
      "cell_type": "code",
      "source": [
        "lines2 = lines.sample(fraction = 0.1, withReplacement= False)"
      ],
      "metadata": {
        "id": "fu81Z9YupZr2"
      },
      "execution_count": null,
      "outputs": []
    },
    {
      "cell_type": "code",
      "source": [
        "lines.first()"
      ],
      "metadata": {
        "id": "0A2BE33RrMsj"
      },
      "execution_count": null,
      "outputs": []
    }
  ]
}