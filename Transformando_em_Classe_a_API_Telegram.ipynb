{
  "nbformat": 4,
  "nbformat_minor": 0,
  "metadata": {
    "colab": {
      "name": "Transformando em Classe a API Telegram.ipynb",
      "provenance": [],
      "authorship_tag": "ABX9TyNgbM/lSnzLLdZKDSUPNlMK",
      "include_colab_link": true
    },
    "kernelspec": {
      "name": "python3",
      "display_name": "Python 3"
    },
    "language_info": {
      "name": "python"
    }
  },
  "cells": [
    {
      "cell_type": "markdown",
      "metadata": {
        "id": "view-in-github",
        "colab_type": "text"
      },
      "source": [
        "<a href=\"https://colab.research.google.com/github/DeiseFreire/googleColab/blob/main/Transformando_em_Classe_a_API_Telegram.ipynb\" target=\"_parent\"><img src=\"https://colab.research.google.com/assets/colab-badge.svg\" alt=\"Open In Colab\"/></a>"
      ]
    },
    {
      "cell_type": "markdown",
      "source": [
        "**`coding: utf-8`**\n",
        "\n",
        "**`@author: Deise Freire`**\n",
        "\n",
        "**`Estudo de coletas de dados`**"
      ],
      "metadata": {
        "id": "QPnmqB4fdHcm"
      }
    },
    {
      "cell_type": "code",
      "source": [
        "import requests\n",
        "import time\n",
        "import json\n",
        "\n",
        "class TelegramBot:\n",
        "  def __init__(self):\n",
        "        token = 'token'\n",
        "        self.url_base = f'https://api.telegram.org/bot{token}/'\n",
        "\n",
        "  def Iniciar(self):\n",
        "      update_id = None\n",
        "      while True:\n",
        "          updates = self.obter_updates()\n",
        "\n",
        "          dados = updates[\"result\"]\n",
        "\n",
        "          print(dados)\n",
        "          update_id = dados[0]['update_id']\n",
        "          print(\"Update ID = \", update_id)\n",
        "          \n",
        "          mensagem = str(dados[-1][\"message\"][\"text\"])\n",
        "          # chat_id = dados[\"message\"][\"from\"][\"id\"]\n",
        "          # print(\"Chat ID = \", chat_id)\n",
        "          print('Mensagem = ', mensagem)\n",
        "            \n",
        "          print(\"---------------------------\")\n",
        "          time.sleep(5)\n",
        "  def obter_updates(self):\n",
        "      link_api = self.url_base+\"getUpdates\"\n",
        "      r = requests.get(link_api)\n",
        "      return r.json()\n"
      ],
      "metadata": {
        "id": "cVDMYe-edHGe"
      },
      "execution_count": 1,
      "outputs": []
    },
    {
      "cell_type": "code",
      "execution_count": 2,
      "metadata": {
        "id": "kcudW8I4c7cN"
      },
      "outputs": [],
      "source": [
        "t = TelegramBot()"
      ]
    },
    {
      "cell_type": "code",
      "source": [
        "t.Iniciar()"
      ],
      "metadata": {
        "id": "pXlrtKBOdVSi"
      },
      "execution_count": null,
      "outputs": []
    }
  ]
}