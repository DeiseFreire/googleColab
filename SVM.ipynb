{
  "nbformat": 4,
  "nbformat_minor": 0,
  "metadata": {
    "colab": {
      "name": "SVM.ipynb",
      "provenance": [],
      "authorship_tag": "ABX9TyMxQf5jStmynY1ee+1fgfib",
      "include_colab_link": true
    },
    "kernelspec": {
      "name": "python3",
      "display_name": "Python 3"
    },
    "language_info": {
      "name": "python"
    }
  },
  "cells": [
    {
      "cell_type": "markdown",
      "metadata": {
        "id": "view-in-github",
        "colab_type": "text"
      },
      "source": [
        "<a href=\"https://colab.research.google.com/github/DeiseFreire/googleColab/blob/main/SVM.ipynb\" target=\"_parent\"><img src=\"https://colab.research.google.com/assets/colab-badge.svg\" alt=\"Open In Colab\"/></a>"
      ]
    },
    {
      "cell_type": "code",
      "source": [
        "from sklearn.svm import SVC\n",
        "import numpy as np\n",
        "import pandas as pd\n",
        "\n",
        "df = pd.read_csv(\"C:/Users/booth04-mgr2/Desktop/python/data/2008.csv\")\n",
        "df = df.dropna(subset=[\"ArrDelay\"])\n",
        "df = df.sample(frac=1)\n",
        "df_test = df.tail(1000)\n",
        "df = df.head(1000)"
      ],
      "metadata": {
        "id": "PghlsbSxXVKq"
      },
      "execution_count": null,
      "outputs": []
    },
    {
      "cell_type": "code",
      "source": [
        "X = df[[\"Distance\",\"AirTime\",'DepTime', 'TaxiIn', 'TaxiOut','DepDelay']]\n",
        "X_test = df_test[[\"Distance\",\"AirTime\",'DepTime', 'TaxiOut','DepDelay']]\n",
        "X_test = df_test[[\"Distance\",\"AirTime\",'DepTime', 'TaxiIn', 'TaxiOut','DepDelay']]\n",
        "\n",
        "Y = df[\"ArrDelay\"] > 10\n",
        "Y_test = df_test[\"ArrDelay\"] > 10\n",
        "\n",
        "#clf = SVC() = # kernel=\"linear\"\n",
        "clf = SVC(kernel = \"linear\") # kernel=\"linear\"\n",
        "clf.fit(X, Y)\n",
        "\n",
        "Y_pred = clf.predict(X_test)\n",
        "#C / kernel"
      ],
      "metadata": {
        "id": "DwDT-cWnXVE0"
      },
      "execution_count": null,
      "outputs": []
    },
    {
      "cell_type": "code",
      "source": [
        "np.mean(Y_pred == Y_test)"
      ],
      "metadata": {
        "id": "LnVNu-gzYnyl"
      },
      "execution_count": null,
      "outputs": []
    },
    {
      "cell_type": "code",
      "source": [
        "# http://scikit-learn.org/stable/modules/svm.html#svm-kernels\n",
        "\n",
        "#linear / poly / rbf / sigmoid -> Asociados a atras parámetros"
      ],
      "metadata": {
        "id": "084fSKGDcFXZ"
      },
      "execution_count": null,
      "outputs": []
    },
    {
      "cell_type": "code",
      "source": [
        "# Para kernels lineales -> LinearSVC()"
      ],
      "metadata": {
        "id": "6nbRcBpvcLGi"
      },
      "execution_count": null,
      "outputs": []
    }
  ]
}