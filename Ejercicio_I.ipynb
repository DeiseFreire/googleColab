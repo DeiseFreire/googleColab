{
  "nbformat": 4,
  "nbformat_minor": 0,
  "metadata": {
    "colab": {
      "name": "Ejercicio I.ipynb",
      "provenance": [],
      "authorship_tag": "ABX9TyMid92eFZPTntMXmWFHY70B",
      "include_colab_link": true
    },
    "kernelspec": {
      "name": "python3",
      "display_name": "Python 3"
    },
    "language_info": {
      "name": "python"
    }
  },
  "cells": [
    {
      "cell_type": "markdown",
      "metadata": {
        "id": "view-in-github",
        "colab_type": "text"
      },
      "source": [
        "<a href=\"https://colab.research.google.com/github/DeiseFreire/googleColab/blob/main/Ejercicio_I.ipynb\" target=\"_parent\"><img src=\"https://colab.research.google.com/assets/colab-badge.svg\" alt=\"Open In Colab\"/></a>"
      ]
    },
    {
      "cell_type": "code",
      "execution_count": null,
      "metadata": {
        "id": "xku5k9fI9TXH"
      },
      "outputs": [],
      "source": [
        "from spyspark import SparkConf, SparkContext\n",
        "from pyspark.sql.types import StringType\n",
        "from pyspark import SQLContext\n",
        "\n",
        "conf = SparkConf().setMaster(\"local\").setAppName(\"Mi App\")\n",
        "sc = SparkContex(conf = conf)\n",
        "sqlContext = SQLContext(sc)"
      ]
    },
    {
      "cell_type": "code",
      "source": [
        "dfspark = sqlContext.read.format(\"csv\").option(\"header\", \"true\").option(\"inferSchema\", \"true\").load(\"just_tacos_and_burritos.cvs\")"
      ],
      "metadata": {
        "id": "nuW2uiBW9cBm"
      },
      "execution_count": null,
      "outputs": []
    },
    {
      "cell_type": "code",
      "source": [
        "dfspark = dfspark.na.drop(subset=['cuisines'])"
      ],
      "metadata": {
        "id": "c3e8nc_W9gAi"
      },
      "execution_count": null,
      "outputs": []
    },
    {
      "cell_type": "code",
      "source": [
        "dfspark.select(\"cuisines\").take(50) "
      ],
      "metadata": {
        "id": "3JnlX-qc9iad"
      },
      "execution_count": null,
      "outputs": []
    },
    {
      "cell_type": "code",
      "source": [
        "A = sc.parallelize(dfspark.select(\"cuisines\").rdd.collect())"
      ],
      "metadata": {
        "id": "sp5-rIuq9k-j"
      },
      "execution_count": null,
      "outputs": []
    },
    {
      "cell_type": "code",
      "source": [
        "df split_cuisines(x):\n",
        "   x = x[0]\n",
        "   x = x.replace(\" \",\"\")\n",
        "   x = x.split(\",\")\n",
        "   return x"
      ],
      "metadata": {
        "id": "o6yovyo69nKB"
      },
      "execution_count": null,
      "outputs": []
    },
    {
      "cell_type": "code",
      "source": [
        "flatmap = A.flatMap(split_cuisines)"
      ],
      "metadata": {
        "id": "TtMP2fYD9t1Q"
      },
      "execution_count": null,
      "outputs": []
    },
    {
      "cell_type": "code",
      "source": [
        "flatmap.collect()"
      ],
      "metadata": {
        "id": "EQAN3gnP9uuX"
      },
      "execution_count": null,
      "outputs": []
    },
    {
      "cell_type": "code",
      "source": [
        "mapfun = flatmap.map(lambda x: (x,1))"
      ],
      "metadata": {
        "id": "bERbb7R69yCw"
      },
      "execution_count": null,
      "outputs": []
    },
    {
      "cell_type": "code",
      "source": [
        "results = mapfun.reduceByKey(lambda x,y: x+y)"
      ],
      "metadata": {
        "id": "GThFWz4M91lV"
      },
      "execution_count": null,
      "outputs": []
    },
    {
      "cell_type": "code",
      "source": [
        "results.sortBy(lambda x: x[1],ascending=False).collect()"
      ],
      "metadata": {
        "id": "4XLME2mm933T"
      },
      "execution_count": null,
      "outputs": []
    }
  ]
}