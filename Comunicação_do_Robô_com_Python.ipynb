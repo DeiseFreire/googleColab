{
  "nbformat": 4,
  "nbformat_minor": 0,
  "metadata": {
    "colab": {
      "name": "Comunicação do Robô com Python.ipynb",
      "provenance": [],
      "authorship_tag": "ABX9TyMch8ij6oYXvREevxGO5CnY",
      "include_colab_link": true
    },
    "kernelspec": {
      "name": "python3",
      "display_name": "Python 3"
    },
    "language_info": {
      "name": "python"
    }
  },
  "cells": [
    {
      "cell_type": "markdown",
      "metadata": {
        "id": "view-in-github",
        "colab_type": "text"
      },
      "source": [
        "<a href=\"https://colab.research.google.com/github/DeiseFreire/googleColab/blob/main/Comunica%C3%A7%C3%A3o_do_Rob%C3%B4_com_Python.ipynb\" target=\"_parent\"><img src=\"https://colab.research.google.com/assets/colab-badge.svg\" alt=\"Open In Colab\"/></a>"
      ]
    },
    {
      "cell_type": "code",
      "execution_count": null,
      "metadata": {
        "id": "qeDt3ljXhOuy"
      },
      "outputs": [],
      "source": [
        "token = '{token}'\n",
        "url_base = f'http://api.telegram.org/bot{token}'\n",
        "\n",
        "r = requests.post(url_base + \"/getUpdates\")\n",
        "\n",
        "resposta_dict = r.json()\n",
        "\n",
        "while True:\n",
        "\n",
        "    r = requests.get(url_base + \"/getUpdates\")\n",
        "\n",
        "    print(resposta_dict)\n",
        "\n",
        "    resposta_dict = r.json()\n",
        "\n",
        "    time.sleep(5)"
      ]
    }
  ]
}