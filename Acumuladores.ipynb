{
  "nbformat": 4,
  "nbformat_minor": 0,
  "metadata": {
    "colab": {
      "name": "Acumuladores.ipynb",
      "provenance": [],
      "authorship_tag": "ABX9TyOwmzKCulKw6+g70FymUuZf",
      "include_colab_link": true
    },
    "kernelspec": {
      "name": "python3",
      "display_name": "Python 3"
    },
    "language_info": {
      "name": "python"
    }
  },
  "cells": [
    {
      "cell_type": "markdown",
      "metadata": {
        "id": "view-in-github",
        "colab_type": "text"
      },
      "source": [
        "<a href=\"https://colab.research.google.com/github/DeiseFreire/googleColab/blob/main/Acumuladores.ipynb\" target=\"_parent\"><img src=\"https://colab.research.google.com/assets/colab-badge.svg\" alt=\"Open In Colab\"/></a>"
      ]
    },
    {
      "cell_type": "code",
      "execution_count": null,
      "metadata": {
        "id": "N-EkH9dJDHxa"
      },
      "outputs": [],
      "source": [
        "from pyspark import SparkConf, SparkContext\n",
        "conf = SparkConf().setMaster(\"local\").setAppName(\"Mi programa\")\n",
        "sc = SparkContext(conf = conf)\n",
        "lines = sc.textFile(\"ejemplo.txt\")"
      ]
    },
    {
      "cell_type": "code",
      "source": [
        "py = sc.accumulator(0)\n",
        "sp = sc.accumulator(0)"
      ],
      "metadata": {
        "id": "aaqqIuyRDWd1"
      },
      "execution_count": null,
      "outputs": []
    },
    {
      "cell_type": "code",
      "source": [
        "def lengujes(linea):\n",
        "    global py, sp\n",
        "    if \"Python\" in linea:\n",
        "        py += 1\n",
        "        if \"Spark\" in linea:\n",
        "            sp += 1\n",
        "        return True\n",
        "    if \"Spark\" in linea:\n",
        "       sp += 1\n",
        "       return True\n",
        "    else:\n",
        "        return False\n",
        "valores = lines.filter(lenguajes)"
      ],
      "metadata": {
        "id": "uAicJgrbDYlq"
      },
      "execution_count": null,
      "outputs": []
    },
    {
      "cell_type": "code",
      "source": [
        "valores.collect()"
      ],
      "metadata": {
        "id": "2c7If0DYDjeO"
      },
      "execution_count": null,
      "outputs": []
    },
    {
      "cell_type": "code",
      "source": [
        "py"
      ],
      "metadata": {
        "id": "BA8SFIszDkiM"
      },
      "execution_count": null,
      "outputs": []
    },
    {
      "cell_type": "code",
      "source": [
        "sp"
      ],
      "metadata": {
        "id": "8_8p4OcvDnmr"
      },
      "execution_count": null,
      "outputs": []
    }
  ]
}