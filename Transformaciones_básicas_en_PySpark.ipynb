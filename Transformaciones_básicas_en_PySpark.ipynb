{
  "nbformat": 4,
  "nbformat_minor": 0,
  "metadata": {
    "colab": {
      "name": "Transformaciones básicas en PySpark.ipynb",
      "provenance": [],
      "authorship_tag": "ABX9TyO+bQfZlti8Ql/9no+akwx9",
      "include_colab_link": true
    },
    "kernelspec": {
      "name": "python3",
      "display_name": "Python 3"
    },
    "language_info": {
      "name": "python"
    }
  },
  "cells": [
    {
      "cell_type": "markdown",
      "metadata": {
        "id": "view-in-github",
        "colab_type": "text"
      },
      "source": [
        "<a href=\"https://colab.research.google.com/github/DeiseFreire/googleColab/blob/main/Transformaciones_b%C3%A1sicas_en_PySpark.ipynb\" target=\"_parent\"><img src=\"https://colab.research.google.com/assets/colab-badge.svg\" alt=\"Open In Colab\"/></a>"
      ]
    },
    {
      "cell_type": "code",
      "execution_count": null,
      "metadata": {
        "id": "rChOUYE1_VMj"
      },
      "outputs": [],
      "source": [
        "from pyspark import SparkConf, SparkContext\n",
        "from pyspark.sql.types import StringType\n",
        "from pyspark import SQLContext\n",
        "import numpy as np\n",
        "\n",
        "conf = SparkConf().setMaster(\"local\").setAppName(\"Mi programa\")\n",
        "sqlContext = SQLContext(sc)\n",
        "\n",
        "dfspark = sqlContext.read.format(\"csv\").option(\"header\", \"true\").option(\"interSchema\", \"true\").load(\"C:/Users/booth04-mgr2/Desktop/python/data/2008.csv\")\n",
        "dfspark = dfspark.sample(fraction=0.001,withReplacement=False)\n",
        "dfspark = dfspark.withColumn(\"ArrDelay\", dfspark[\"ArrDelay\"].cast(\"integer\"))\n",
        "\n",
        "df2 = dfspark.na.drop(subset=['ArrDelay','DepDelay','Distance'])\n",
        "df2 = df2.filter(\"ArrDelay is not NULL\")\n",
        "df2 = df2.dropDuplicates()"
      ]
    },
    {
      "cell_type": "code",
      "source": [
        "df2.select(\"ArrDelay\").filter(\"ArrDelay\" > 60\").take(5)"
      ],
      "metadata": {
        "id": "n1v9GqiH_ro8"
      },
      "execution_count": null,
      "outputs": []
    },
    {
      "cell_type": "code",
      "source": [
        "\n",
        "df2.filter(\"ArrDelay\" > 60\").take(5)"
      ],
      "metadata": {
        "id": "1fSEFwVD_vcz"
      },
      "execution_count": null,
      "outputs": []
    },
    {
      "cell_type": "code",
      "source": [
        "df2.select(\"ArrDelay\").filter(\"ArrDelay\" > 60\").take(1)[0]"
      ],
      "metadata": {
        "id": "AC0MSSLx_xe8"
      },
      "execution_count": null,
      "outputs": []
    },
    {
      "cell_type": "code",
      "source": [
        "df2.filter(\"ArrDelay > 60\").take(5)"
      ],
      "metadata": {
        "id": "uOoaez-X_zuL"
      },
      "execution_count": null,
      "outputs": []
    },
    {
      "cell_type": "code",
      "source": [
        "media = np.mean(df2.select('ArrDelay').collect())\n",
        "df2.select(\"ArrDelay\").rdd.map(lambda x: (x - media)**2).take(10)"
      ],
      "metadata": {
        "id": "vQDOXrX1_15M"
      },
      "execution_count": null,
      "outputs": []
    },
    {
      "cell_type": "code",
      "source": [
        "df2.groupBy(\"DayOfWeek\").count().show()"
      ],
      "metadata": {
        "id": "2GSwI9wu_7QY"
      },
      "execution_count": null,
      "outputs": []
    },
    {
      "cell_type": "code",
      "source": [
        "df2.groupBy(\"DayOfWeek\").mean(\"ArrDelay\").show()"
      ],
      "metadata": {
        "id": "bmmj8nbJ__ag"
      },
      "execution_count": null,
      "outputs": []
    },
    {
      "cell_type": "code",
      "source": [
        "df2.select(\"Origin\").rdd.distinct().take(5)"
      ],
      "metadata": {
        "id": "RKi11gSkADSl"
      },
      "execution_count": null,
      "outputs": []
    },
    {
      "cell_type": "code",
      "source": [
        "df2.select(\"Origin\").rdd.distinct().count()"
      ],
      "metadata": {
        "id": "93B_OMVpAGHP"
      },
      "execution_count": null,
      "outputs": []
    },
    {
      "cell_type": "code",
      "source": [
        "df2.orderBy(df2.ArrDelay.desc()).take(5)"
      ],
      "metadata": {
        "id": "A_SvINnxAJBS"
      },
      "execution_count": null,
      "outputs": []
    }
  ]
}