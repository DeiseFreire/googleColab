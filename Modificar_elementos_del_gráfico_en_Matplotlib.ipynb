{
  "nbformat": 4,
  "nbformat_minor": 0,
  "metadata": {
    "colab": {
      "name": "Modificar elementos del gráfico en Matplotlib.ipynb",
      "provenance": [],
      "toc_visible": true,
      "authorship_tag": "ABX9TyNXN3zT04+DsMe21ub8gWbn",
      "include_colab_link": true
    },
    "kernelspec": {
      "name": "python3",
      "display_name": "Python 3"
    },
    "language_info": {
      "name": "python"
    }
  },
  "cells": [
    {
      "cell_type": "markdown",
      "metadata": {
        "id": "view-in-github",
        "colab_type": "text"
      },
      "source": [
        "<a href=\"https://colab.research.google.com/github/DeiseFreire/googleColab/blob/main/Modificar_elementos_del_gr%C3%A1fico_en_Matplotlib.ipynb\" target=\"_parent\"><img src=\"https://colab.research.google.com/assets/colab-badge.svg\" alt=\"Open In Colab\"/></a>"
      ]
    },
    {
      "cell_type": "code",
      "execution_count": 1,
      "metadata": {
        "id": "yzhZ7Tjy9ygg"
      },
      "outputs": [],
      "source": [
        "import numpy as np\n",
        "import seaborn as sns\n",
        "import matplotlib.pyplot as plt\n",
        "import pandas as pd"
      ]
    },
    {
      "cell_type": "code",
      "source": [
        "np.random.seed(0)\n",
        "df = pd.read_csv(\"C:/Users/booth04-mgr2/Desktop/python/data/2008.csv\",nrows=1000000)"
      ],
      "metadata": {
        "id": "-0QBKpEB-40l"
      },
      "execution_count": null,
      "outputs": []
    },
    {
      "cell_type": "code",
      "source": [
        "df = df.sample(frac=1.head(100)\n",
        "plt.scatter(x=df.DayofMonth,y=df.ArrDelay, s = df.Distance)\n",
        "plt.scatter(x=df.DayofMonth,y=df.ArrDelay, s = df.Distance,alpha = .3)"
      ],
      "metadata": {
        "id": "bJegR2ED-94U"
      },
      "execution_count": null,
      "outputs": []
    },
    {
      "cell_type": "code",
      "source": [
        "plt.scatter(x=df.DayofMonth,y=df.ArrDelay, s = df.Distance,alpha = .3,c = df.DayOfWeek.isin([6,7]))\n",
        "plt.title(\"Retrasos en EEUU\")\n",
        "plt.xlabel(s=\"Día del Mes\")\n",
        "plt.ylabel(s=\"Retraso al Llegar\")\n",
        "plt.ylim([0,150])\n",
        "plt.xticks([0,15,30])\n",
        "plt.text(x=28,y=120,s=\"Mi Vuelo\")\n",
        "plt.show()"
      ],
      "metadata": {
        "id": "zNJBM3E3-6m5"
      },
      "execution_count": null,
      "outputs": []
    }
  ]
}