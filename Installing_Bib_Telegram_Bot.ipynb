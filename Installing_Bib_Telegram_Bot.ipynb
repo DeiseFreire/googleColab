{
  "nbformat": 4,
  "nbformat_minor": 0,
  "metadata": {
    "colab": {
      "name": "Installing Bib Telegram-Bot.ipynb",
      "provenance": [],
      "authorship_tag": "ABX9TyNtsI+Q5F+d3OhlNqMEGcva",
      "include_colab_link": true
    },
    "kernelspec": {
      "name": "python3",
      "display_name": "Python 3"
    },
    "language_info": {
      "name": "python"
    }
  },
  "cells": [
    {
      "cell_type": "markdown",
      "metadata": {
        "id": "view-in-github",
        "colab_type": "text"
      },
      "source": [
        "<a href=\"https://colab.research.google.com/github/DeiseFreire/googleColab/blob/main/Installing_Bib_Telegram_Bot.ipynb\" target=\"_parent\"><img src=\"https://colab.research.google.com/assets/colab-badge.svg\" alt=\"Open In Colab\"/></a>"
      ]
    },
    {
      "cell_type": "markdown",
      "source": [
        "**`coding: utf-8`**\n",
        "\n",
        "**`author: Deise Freire and Devin Harris `**"
      ],
      "metadata": {
        "id": "28gmnu7-AoF2"
      }
    },
    {
      "cell_type": "code",
      "execution_count": 4,
      "metadata": {
        "colab": {
          "base_uri": "https://localhost:8080/"
        },
        "id": "0oK3H4cGAfQR",
        "outputId": "c32bf83a-4f06-4402-ed37-66701b58d5a9"
      },
      "outputs": [
        {
          "output_type": "stream",
          "name": "stdout",
          "text": [
            "Requirement already satisfied: python-telegram-bot in /usr/local/lib/python3.7/dist-packages (13.11)\n",
            "Requirement already satisfied: pytz>=2018.6 in /usr/local/lib/python3.7/dist-packages (from python-telegram-bot) (2018.9)\n",
            "Requirement already satisfied: certifi in /usr/local/lib/python3.7/dist-packages (from python-telegram-bot) (2021.10.8)\n",
            "Requirement already satisfied: APScheduler==3.6.3 in /usr/local/lib/python3.7/dist-packages (from python-telegram-bot) (3.6.3)\n",
            "Requirement already satisfied: tornado>=6.1 in /usr/local/lib/python3.7/dist-packages (from python-telegram-bot) (6.1)\n",
            "Requirement already satisfied: cachetools==4.2.2 in /usr/local/lib/python3.7/dist-packages (from python-telegram-bot) (4.2.2)\n",
            "Requirement already satisfied: tzlocal>=1.2 in /usr/local/lib/python3.7/dist-packages (from APScheduler==3.6.3->python-telegram-bot) (1.5.1)\n",
            "Requirement already satisfied: six>=1.4.0 in /usr/local/lib/python3.7/dist-packages (from APScheduler==3.6.3->python-telegram-bot) (1.15.0)\n",
            "Requirement already satisfied: setuptools>=0.7 in /usr/local/lib/python3.7/dist-packages (from APScheduler==3.6.3->python-telegram-bot) (57.4.0)\n"
          ]
        }
      ],
      "source": [
        "pip install python-telegram-bot"
      ]
    },
    {
      "cell_type": "code",
      "source": [
        "import telegram"
      ],
      "metadata": {
        "id": "2DPX78EdA_qA"
      },
      "execution_count": 5,
      "outputs": []
    },
    {
      "cell_type": "code",
      "source": [
        "TOKEN ='{token}'\n",
        "bot = telegram.Bot(TOKEN)\n",
        "\n",
        "print(bot.get_me())"
      ],
      "metadata": {
        "colab": {
          "base_uri": "https://localhost:8080/"
        },
        "id": "_YNXfAumBICr",
        "outputId": "99447da6-cc94-467f-8205-80015c425ef5"
      },
      "execution_count": 7,
      "outputs": [
        {
          "output_type": "stream",
          "name": "stdout",
          "text": [
            "{'can_join_groups': True, 'first_name': 'Brazil ZIP Codes, Films and Cryptocurrencies', 'is_bot': True, 'can_read_all_group_messages': False, 'username': 'Price_Richard_Bot', 'supports_inline_queries': False, 'id': 5272378989}\n"
          ]
        }
      ]
    }
  ]
}