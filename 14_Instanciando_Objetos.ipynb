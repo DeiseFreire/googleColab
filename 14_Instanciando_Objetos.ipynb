{
  "nbformat": 4,
  "nbformat_minor": 0,
  "metadata": {
    "colab": {
      "name": "14. Instanciando Objetos.ipynb",
      "provenance": [],
      "authorship_tag": "ABX9TyOzfUlrvl6BAcfiGYbyxWgD",
      "include_colab_link": true
    },
    "kernelspec": {
      "name": "python3",
      "display_name": "Python 3"
    },
    "language_info": {
      "name": "python"
    }
  },
  "cells": [
    {
      "cell_type": "markdown",
      "metadata": {
        "id": "view-in-github",
        "colab_type": "text"
      },
      "source": [
        "<a href=\"https://colab.research.google.com/github/DeiseFreire/googleColab/blob/main/14_Instanciando_Objetos.ipynb\" target=\"_parent\"><img src=\"https://colab.research.google.com/assets/colab-badge.svg\" alt=\"Open In Colab\"/></a>"
      ]
    },
    {
      "cell_type": "code",
      "execution_count": 3,
      "metadata": {
        "id": "b7ajJUAga3ru"
      },
      "outputs": [],
      "source": [
        "class Veiculo:\n",
        "    def __init__(self, nome,tipo):\n",
        "        self._nome = nome\n",
        "        self._tipo = tipo\n",
        "\n",
        "    def tipoVeiculo(self):\n",
        "        print(self._nome)"
      ]
    },
    {
      "cell_type": "code",
      "source": [
        "v2 = Veiculo(\"Caminhão\",\"Terrestre\")"
      ],
      "metadata": {
        "id": "B0B8DCAdbITs"
      },
      "execution_count": 4,
      "outputs": []
    },
    {
      "cell_type": "code",
      "source": [
        "v2.tipoVeiculo()"
      ],
      "metadata": {
        "colab": {
          "base_uri": "https://localhost:8080/"
        },
        "id": "B6I-m_3bbJs1",
        "outputId": "2122101e-7426-4f7e-a14c-95338168f0a2"
      },
      "execution_count": 5,
      "outputs": [
        {
          "output_type": "stream",
          "name": "stdout",
          "text": [
            "Caminhão\n"
          ]
        }
      ]
    },
    {
      "cell_type": "code",
      "source": [
        "moto = Veiculo(\"Honda\",\"Terrestre\")"
      ],
      "metadata": {
        "id": "HLZuYC_KbMob"
      },
      "execution_count": 6,
      "outputs": []
    },
    {
      "cell_type": "code",
      "source": [
        "barco = Veiculo(\"Barco pequeno\",'Marítimo')"
      ],
      "metadata": {
        "id": "X2PAO5ccbPii"
      },
      "execution_count": 7,
      "outputs": []
    }
  ]
}