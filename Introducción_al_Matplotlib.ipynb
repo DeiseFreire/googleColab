{
  "nbformat": 4,
  "nbformat_minor": 0,
  "metadata": {
    "colab": {
      "name": "Introducción al Matplotlib.ipynb",
      "provenance": [],
      "authorship_tag": "ABX9TyOr2d2oNvgA7Nmhxl5PqU8T",
      "include_colab_link": true
    },
    "kernelspec": {
      "name": "python3",
      "display_name": "Python 3"
    },
    "language_info": {
      "name": "python"
    }
  },
  "cells": [
    {
      "cell_type": "markdown",
      "metadata": {
        "id": "view-in-github",
        "colab_type": "text"
      },
      "source": [
        "<a href=\"https://colab.research.google.com/github/DeiseFreire/googleColab/blob/main/Introducci%C3%B3n_al_Matplotlib.ipynb\" target=\"_parent\"><img src=\"https://colab.research.google.com/assets/colab-badge.svg\" alt=\"Open In Colab\"/></a>"
      ]
    },
    {
      "cell_type": "code",
      "execution_count": null,
      "metadata": {
        "id": "y5-eGJbwBQHB"
      },
      "outputs": [],
      "source": [
        "import pandas as pd\n",
        "import numpy as np\n",
        "import matplotlib.pyplot as plt"
      ]
    },
    {
      "cell_type": "code",
      "source": [
        "df = pd.read_csv(\"C:/Users/booth04-mgr2/Desktop/python/data/2008.csv\",nrows=100000)\n"
      ],
      "metadata": {
        "id": "Mo445ZqVByqJ"
      },
      "execution_count": null,
      "outputs": []
    },
    {
      "cell_type": "code",
      "source": [
        "data = np.unique(df.Cancelled, return_counts= True)\n",
        "data"
      ],
      "metadata": {
        "id": "MwL5aLgSzFaW"
      },
      "execution_count": null,
      "outputs": []
    },
    {
      "cell_type": "code",
      "source": [
        "plt.pie(x = data[1],\n",
        "labels = data[0],\n",
        "colors = [\"Red\",\"Green\"],\n",
        "shadow = True,\n",
        "startangle = 90,\n",
        "radius = 2)\n",
        "plt.show()\n"
      ],
      "metadata": {
        "id": "yHSocVqeFdFw"
      },
      "execution_count": null,
      "outputs": []
    },
    {
      "cell_type": "code",
      "source": [
        "data = np.unique(df.Cancelled, return_counts= True)\n",
        "data"
      ],
      "metadata": {
        "id": "MDhAKvb6yRXb"
      },
      "execution_count": null,
      "outputs": []
    },
    {
      "cell_type": "code",
      "source": [
        "plt.pie(x = data[1],\n",
        "labels = data[0],\n",
        "colors = [\"Red\",\"Green\"],\n",
        "shadow = True,\n",
        "startangle = 90,\n",
        "radius = 2)\n",
        "plt.show()\n"
      ],
      "metadata": {
        "id": "jG8MO9sGyTLl"
      },
      "execution_count": null,
      "outputs": []
    }
  ]
}