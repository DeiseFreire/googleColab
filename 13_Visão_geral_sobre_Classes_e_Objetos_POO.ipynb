{
  "nbformat": 4,
  "nbformat_minor": 0,
  "metadata": {
    "colab": {
      "name": "13. Visão geral sobre Classes e Objetos - POO.ipynb",
      "provenance": [],
      "authorship_tag": "ABX9TyOcieOi+/olOiLR9vdJctZn",
      "include_colab_link": true
    },
    "kernelspec": {
      "name": "python3",
      "display_name": "Python 3"
    },
    "language_info": {
      "name": "python"
    }
  },
  "cells": [
    {
      "cell_type": "markdown",
      "metadata": {
        "id": "view-in-github",
        "colab_type": "text"
      },
      "source": [
        "<a href=\"https://colab.research.google.com/github/DeiseFreire/googleColab/blob/main/13_Vis%C3%A3o_geral_sobre_Classes_e_Objetos_POO.ipynb\" target=\"_parent\"><img src=\"https://colab.research.google.com/assets/colab-badge.svg\" alt=\"Open In Colab\"/></a>"
      ]
    },
    {
      "cell_type": "markdown",
      "source": [
        "**`coding: utf-8`** 🥰\n",
        "\n",
        "**`Criado sexta-feira 18 18:03:03 2022`**\n",
        "\n",
        "**`@author: Deise Freire `**"
      ],
      "metadata": {
        "id": "XIsWSb-pFnKl"
      }
    },
    {
      "cell_type": "markdown",
      "source": [
        "**`POO`**"
      ],
      "metadata": {
        "id": "oQIKPc96GST9"
      }
    },
    {
      "cell_type": "code",
      "source": [
        "class Veiculo:\n",
        "  def __init__(self, nome,tipo): # contrutor, estou construindo o meu objeto veículo\n",
        "    self._nome = nome\n",
        "    self._tipo = tipo\n",
        "    \n",
        "  def tipoVeiculo(self):\n",
        "      print(self._nome)\n",
        "      \n",
        "  def tipoVeiculo(self):\n",
        "      print(self._nome)\n",
        "        \n",
        "      v1 = Veiculo(\"Carro\",\"Terrestre\")\n",
        "        \n",
        "      v2.tipoVeiculo()"
      ],
      "metadata": {
        "id": "aZ5djgFmGW16"
      },
      "execution_count": 4,
      "outputs": []
    },
    {
      "cell_type": "markdown",
      "source": [
        "`http://wiki.python.org.br/ProgramacaoOrientadaObjetoPython`"
      ],
      "metadata": {
        "id": "184RfczFGvWx"
      }
    },
    {
      "cell_type": "code",
      "source": [
        "x = 3"
      ],
      "metadata": {
        "id": "EUXVsetWG0DA"
      },
      "execution_count": 5,
      "outputs": []
    },
    {
      "cell_type": "code",
      "source": [
        "y = 7.8"
      ],
      "metadata": {
        "id": "-Ay23BB0G3TX"
      },
      "execution_count": 6,
      "outputs": []
    },
    {
      "cell_type": "code",
      "source": [
        "x2 = int(77)"
      ],
      "metadata": {
        "id": "9HuJhlsDG5Dv"
      },
      "execution_count": 7,
      "outputs": []
    },
    {
      "cell_type": "code",
      "source": [
        "lista = list()"
      ],
      "metadata": {
        "id": "OWz6v3VqG7Ml"
      },
      "execution_count": 8,
      "outputs": []
    },
    {
      "cell_type": "code",
      "source": [
        "v2 = Veiculo(\"Caminhao\",\"Terrestre\")"
      ],
      "metadata": {
        "id": "qJpofNGGG9pQ"
      },
      "execution_count": 9,
      "outputs": []
    },
    {
      "cell_type": "code",
      "source": [
        "v2._nome"
      ],
      "metadata": {
        "colab": {
          "base_uri": "https://localhost:8080/",
          "height": 36
        },
        "id": "FzwK9GoIHAy2",
        "outputId": "26ac6119-7af1-4929-e6dc-fba81cfb246a"
      },
      "execution_count": 10,
      "outputs": [
        {
          "output_type": "execute_result",
          "data": {
            "text/plain": [
              "'Caminhao'"
            ],
            "application/vnd.google.colaboratory.intrinsic+json": {
              "type": "string"
            }
          },
          "metadata": {},
          "execution_count": 10
        }
      ]
    },
    {
      "cell_type": "code",
      "source": [
        "v2._tipo"
      ],
      "metadata": {
        "colab": {
          "base_uri": "https://localhost:8080/",
          "height": 36
        },
        "id": "9CJV3dH6HDOK",
        "outputId": "bc57df8d-44da-46a6-d4b3-b3c6be52aebd"
      },
      "execution_count": 11,
      "outputs": [
        {
          "output_type": "execute_result",
          "data": {
            "text/plain": [
              "'Terrestre'"
            ],
            "application/vnd.google.colaboratory.intrinsic+json": {
              "type": "string"
            }
          },
          "metadata": {},
          "execution_count": 11
        }
      ]
    }
  ]
}