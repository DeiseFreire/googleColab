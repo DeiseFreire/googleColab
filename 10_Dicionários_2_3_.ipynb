{
  "nbformat": 4,
  "nbformat_minor": 0,
  "metadata": {
    "colab": {
      "name": "10. Dicionários 2-3 .ipynb",
      "provenance": [],
      "authorship_tag": "ABX9TyNh346Ala3+DyZWEqQKRKfz",
      "include_colab_link": true
    },
    "kernelspec": {
      "name": "python3",
      "display_name": "Python 3"
    },
    "language_info": {
      "name": "python"
    }
  },
  "cells": [
    {
      "cell_type": "markdown",
      "metadata": {
        "id": "view-in-github",
        "colab_type": "text"
      },
      "source": [
        "<a href=\"https://colab.research.google.com/github/DeiseFreire/googleColab/blob/main/10_Dicion%C3%A1rios_2_3_.ipynb\" target=\"_parent\"><img src=\"https://colab.research.google.com/assets/colab-badge.svg\" alt=\"Open In Colab\"/></a>"
      ]
    },
    {
      "cell_type": "markdown",
      "source": [
        "**`coding: utf-8`**\n",
        "\n",
        "**`Criado sexta-feira mar 18 13:31:48 2021`**\n",
        "\n",
        "**`@author: Deise Freire`** "
      ],
      "metadata": {
        "id": "Umt8P5Hs3WTv"
      }
    },
    {
      "cell_type": "markdown",
      "source": [
        "**`Revisão sobre listas`**"
      ],
      "metadata": {
        "id": "0lR3GrhV3-VA"
      }
    },
    {
      "cell_type": "code",
      "source": [
        "lista_vazia = []"
      ],
      "metadata": {
        "id": "G6QtFKFU4AXa"
      },
      "execution_count": 1,
      "outputs": []
    },
    {
      "cell_type": "code",
      "source": [
        "lista_vazia2 = list()"
      ],
      "metadata": {
        "id": "IaOtXNZP4DEK"
      },
      "execution_count": 2,
      "outputs": []
    },
    {
      "cell_type": "code",
      "source": [
        "familia = ['Roberto', 'Lucas', 'Bianca']"
      ],
      "metadata": {
        "id": "uBEC3aHw4E_d"
      },
      "execution_count": 3,
      "outputs": []
    },
    {
      "cell_type": "code",
      "source": [
        "familia.append('Nathalia')"
      ],
      "metadata": {
        "id": "5y8i0nO64HHv"
      },
      "execution_count": 4,
      "outputs": []
    },
    {
      "cell_type": "markdown",
      "source": [
        "**`Objetos do tipo tupla`**"
      ],
      "metadata": {
        "id": "jtA_shFV4Lnm"
      }
    },
    {
      "cell_type": "code",
      "source": [
        "tupla_vazia = ()"
      ],
      "metadata": {
        "id": "hKKVpMkO4OKo"
      },
      "execution_count": 5,
      "outputs": []
    },
    {
      "cell_type": "code",
      "source": [
        "t1 = tuple(['Rio','Tóquio','Paris'])"
      ],
      "metadata": {
        "id": "CXVF3pM74QOd"
      },
      "execution_count": 6,
      "outputs": []
    },
    {
      "cell_type": "markdown",
      "source": [
        "**`Dicionários`**"
      ],
      "metadata": {
        "id": "EDzkqAJA4Urp"
      }
    },
    {
      "cell_type": "code",
      "source": [
        "dicionario = {}"
      ],
      "metadata": {
        "id": "xPW_jAhz4W4r"
      },
      "execution_count": 7,
      "outputs": []
    },
    {
      "cell_type": "code",
      "source": [
        "dicionario2 = dict()"
      ],
      "metadata": {
        "id": "SpMl18Kr4a__"
      },
      "execution_count": 8,
      "outputs": []
    },
    {
      "cell_type": "code",
      "source": [
        "familia = {'Pai':'Roberto','Mãe':'Bianca','TemFilhos':False}"
      ],
      "metadata": {
        "id": "8PlqNvFL4dma"
      },
      "execution_count": 9,
      "outputs": []
    },
    {
      "cell_type": "code",
      "source": [
        "familia2 = dict(Pai=\"Carlos\", Mae=\"Maria\",TemFilhos=True)"
      ],
      "metadata": {
        "id": "iB0c6LVQ4ge7"
      },
      "execution_count": 10,
      "outputs": []
    },
    {
      "cell_type": "code",
      "source": [
        "lista_tuplas = [(\"Pai\",\"João\"),(\"Mãe\",\"Júlia\"),(\"TemFilhos\",False)]"
      ],
      "metadata": {
        "id": "qoWpaFpK4jEO"
      },
      "execution_count": 11,
      "outputs": []
    },
    {
      "cell_type": "code",
      "source": [
        "familia3 = dict(lista_tuplas)"
      ],
      "metadata": {
        "id": "Tnm6xxiW4pD1"
      },
      "execution_count": 12,
      "outputs": []
    },
    {
      "cell_type": "code",
      "source": [
        "familia2['Pai']"
      ],
      "metadata": {
        "colab": {
          "base_uri": "https://localhost:8080/",
          "height": 36
        },
        "id": "UfMfLAxk4rdK",
        "outputId": "0f934bd0-c35b-4f32-b803-813cfcd0b942"
      },
      "execution_count": 13,
      "outputs": [
        {
          "output_type": "execute_result",
          "data": {
            "text/plain": [
              "'Carlos'"
            ],
            "application/vnd.google.colaboratory.intrinsic+json": {
              "type": "string"
            }
          },
          "metadata": {},
          "execution_count": 13
        }
      ]
    },
    {
      "cell_type": "code",
      "source": [
        "print(familia2['Pai'])"
      ],
      "metadata": {
        "colab": {
          "base_uri": "https://localhost:8080/"
        },
        "id": "wPhL1aDZ4th0",
        "outputId": "84618e10-b0ad-4197-a55a-93ab6bd60f09"
      },
      "execution_count": 14,
      "outputs": [
        {
          "output_type": "stream",
          "name": "stdout",
          "text": [
            "Carlos\n"
          ]
        }
      ]
    },
    {
      "cell_type": "code",
      "source": [
        "print(familia2['Mãe'])"
      ],
      "metadata": {
        "colab": {
          "base_uri": "https://localhost:8080/",
          "height": 172
        },
        "id": "Hw-4gyU44vV1",
        "outputId": "e3ad1b59-a18f-4084-e0bf-cdf372b08ec7"
      },
      "execution_count": 15,
      "outputs": [
        {
          "output_type": "error",
          "ename": "KeyError",
          "evalue": "ignored",
          "traceback": [
            "\u001b[0;31m---------------------------------------------------------------------------\u001b[0m",
            "\u001b[0;31mKeyError\u001b[0m                                  Traceback (most recent call last)",
            "\u001b[0;32m<ipython-input-15-12de525638f2>\u001b[0m in \u001b[0;36m<module>\u001b[0;34m()\u001b[0m\n\u001b[0;32m----> 1\u001b[0;31m \u001b[0mprint\u001b[0m\u001b[0;34m(\u001b[0m\u001b[0mfamilia2\u001b[0m\u001b[0;34m[\u001b[0m\u001b[0;34m'Mãe'\u001b[0m\u001b[0;34m]\u001b[0m\u001b[0;34m)\u001b[0m\u001b[0;34m\u001b[0m\u001b[0;34m\u001b[0m\u001b[0m\n\u001b[0m",
            "\u001b[0;31mKeyError\u001b[0m: 'Mãe'"
          ]
        }
      ]
    },
    {
      "cell_type": "code",
      "source": [
        "print(familia2['Mae'])"
      ],
      "metadata": {
        "colab": {
          "base_uri": "https://localhost:8080/"
        },
        "id": "KZCf2VED4xdR",
        "outputId": "c2ec5cc1-68b5-4363-a042-8b73ba41b33b"
      },
      "execution_count": 16,
      "outputs": [
        {
          "output_type": "stream",
          "name": "stdout",
          "text": [
            "Maria\n"
          ]
        }
      ]
    },
    {
      "cell_type": "code",
      "source": [
        "len(familia2)"
      ],
      "metadata": {
        "colab": {
          "base_uri": "https://localhost:8080/"
        },
        "id": "lJtwoVYk40WD",
        "outputId": "f5b4bc15-879d-4940-caa1-c383a79d2d23"
      },
      "execution_count": 17,
      "outputs": [
        {
          "output_type": "execute_result",
          "data": {
            "text/plain": [
              "3"
            ]
          },
          "metadata": {},
          "execution_count": 17
        }
      ]
    },
    {
      "cell_type": "code",
      "source": [
        "familia2.keys()"
      ],
      "metadata": {
        "colab": {
          "base_uri": "https://localhost:8080/"
        },
        "id": "4QopWiip43Wi",
        "outputId": "07a98dfa-1315-4588-9b0d-e6a6b174832d"
      },
      "execution_count": 18,
      "outputs": [
        {
          "output_type": "execute_result",
          "data": {
            "text/plain": [
              "dict_keys(['Pai', 'Mae', 'TemFilhos'])"
            ]
          },
          "metadata": {},
          "execution_count": 18
        }
      ]
    },
    {
      "cell_type": "code",
      "source": [
        "familia2.values()"
      ],
      "metadata": {
        "colab": {
          "base_uri": "https://localhost:8080/"
        },
        "id": "5pWUznjn45iO",
        "outputId": "e80f6098-4e43-408d-dd39-dfccf55e4a09"
      },
      "execution_count": 19,
      "outputs": [
        {
          "output_type": "execute_result",
          "data": {
            "text/plain": [
              "dict_values(['Carlos', 'Maria', True])"
            ]
          },
          "metadata": {},
          "execution_count": 19
        }
      ]
    },
    {
      "cell_type": "code",
      "source": [
        "familia2.values()"
      ],
      "metadata": {
        "colab": {
          "base_uri": "https://localhost:8080/"
        },
        "id": "aPBJNg1E49n_",
        "outputId": "39121f5b-e37d-4d8e-8b0a-a95c1827bd10"
      },
      "execution_count": 21,
      "outputs": [
        {
          "output_type": "execute_result",
          "data": {
            "text/plain": [
              "dict_values(['Carlos', 'Maria', True])"
            ]
          },
          "metadata": {},
          "execution_count": 21
        }
      ]
    },
    {
      "cell_type": "code",
      "source": [
        "print(familia2.values())"
      ],
      "metadata": {
        "colab": {
          "base_uri": "https://localhost:8080/"
        },
        "id": "KiX02s9Z4_kU",
        "outputId": "7196a970-e507-4580-c985-9b729ee4449f"
      },
      "execution_count": 22,
      "outputs": [
        {
          "output_type": "stream",
          "name": "stdout",
          "text": [
            "dict_values(['Carlos', 'Maria', True])\n"
          ]
        }
      ]
    }
  ]
}