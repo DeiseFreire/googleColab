{
  "nbformat": 4,
  "nbformat_minor": 0,
  "metadata": {
    "colab": {
      "name": "Árboles Clasificación y Regresión.ipynb",
      "provenance": [],
      "authorship_tag": "ABX9TyP/R1poNNFYEpRHg9qGiM9l",
      "include_colab_link": true
    },
    "kernelspec": {
      "name": "python3",
      "display_name": "Python 3"
    },
    "language_info": {
      "name": "python"
    }
  },
  "cells": [
    {
      "cell_type": "markdown",
      "metadata": {
        "id": "view-in-github",
        "colab_type": "text"
      },
      "source": [
        "<a href=\"https://colab.research.google.com/github/DeiseFreire/googleColab/blob/main/%C3%81rboles_Clasificaci%C3%B3n_y_Regresi%C3%B3n.ipynb\" target=\"_parent\"><img src=\"https://colab.research.google.com/assets/colab-badge.svg\" alt=\"Open In Colab\"/></a>"
      ]
    },
    {
      "cell_type": "code",
      "execution_count": null,
      "metadata": {
        "id": "UwxlA3Gau33C"
      },
      "outputs": [],
      "source": [
        "from sklearn import tree\n",
        "import numpy as np\n",
        "import pandas as pd\n",
        "from sklearn.metrics import r2_score"
      ]
    },
    {
      "cell_type": "code",
      "source": [
        "df = dp.read_csv(\"C:/Users/booth04-mgr2/Desktop/python/data/2008.csv\")\n",
        "df = df.dropna(subset=[\"ArrDelay\"])\n",
        "df = df.sample(frac=1)\n",
        "dftest = df.tail(500000)\n",
        "df = df.head(500000)"
      ],
      "metadata": {
        "id": "3WEHgSaOu919"
      },
      "execution_count": null,
      "outputs": []
    },
    {
      "cell_type": "code",
      "source": [
        "clf = tree.DecisionTreeClassifier()\n",
        "\n",
        "X = df[[\"Distance\",\"AirTime\",'DepTime', 'TaxiIn', 'TaxiOut','DepDeplay']]\n",
        "X_text = dftest[[\"Distance\",\"AirTime\",'DepTime', 'TaxiIn', 'TaxiOut', 'DepDelay']]\n",
        "Y = df[\"ArrDelay\"] > 10\n",
        "Y_test = dftest[\"ArrDelay\"] > 10\n",
        "\n",
        "clf = clf.fit(X, Y)\n",
        "Y_pred = clf.predict(X)\n",
        "Y_pred_test = clf.predict(X_test)\n",
        "\n",
        "# max_depth , min_samples_split / min_samples_Leaf , max_features\n"
      ],
      "metadata": {
        "id": "oDfjp9K3vfy7"
      },
      "execution_count": null,
      "outputs": []
    },
    {
      "cell_type": "code",
      "source": [
        "np.mean(Y == Y_pred)"
      ],
      "metadata": {
        "id": "8YaUBHnzvg9O"
      },
      "execution_count": null,
      "outputs": []
    },
    {
      "cell_type": "code",
      "source": [
        "np.mean(Y_test == Y_pred_test)"
      ],
      "metadata": {
        "id": "2hu0dMZrvno0"
      },
      "execution_count": null,
      "outputs": []
    },
    {
      "cell_type": "code",
      "source": [
        "clf = tree.DecisionTreeRegressor()\n",
        "\n",
        "Y = df[\"ArrDelaly\"]\n",
        "\n",
        "Y_test = dftest[\"ArrDelay\"]\n",
        "\n",
        "clf = clf.fit(X, Y)\n",
        "Y_pred = clf.predict(X)\n",
        "Y_pred_test = clf.pedict(X_test)\n",
        "\n",
        "print(\"R cuadrado: \",r2_score(Y, Y_pred))\n",
        "print(\"R cuadrado test: \",r2_score(Y_test, Y_pred_test))\n"
      ],
      "metadata": {
        "id": "JyZs2vSIvp_z"
      },
      "execution_count": null,
      "outputs": []
    }
  ]
}