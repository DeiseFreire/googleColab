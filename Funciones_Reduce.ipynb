{
  "nbformat": 4,
  "nbformat_minor": 0,
  "metadata": {
    "colab": {
      "name": "Funciones Reduce.ipynb",
      "provenance": [],
      "authorship_tag": "ABX9TyO86D0Olmok0NOPluR/WyLS",
      "include_colab_link": true
    },
    "kernelspec": {
      "name": "python3",
      "display_name": "Python 3"
    },
    "language_info": {
      "name": "python"
    }
  },
  "cells": [
    {
      "cell_type": "markdown",
      "metadata": {
        "id": "view-in-github",
        "colab_type": "text"
      },
      "source": [
        "<a href=\"https://colab.research.google.com/github/DeiseFreire/googleColab/blob/main/Funciones_Reduce.ipynb\" target=\"_parent\"><img src=\"https://colab.research.google.com/assets/colab-badge.svg\" alt=\"Open In Colab\"/></a>"
      ]
    },
    {
      "cell_type": "code",
      "execution_count": null,
      "metadata": {
        "id": "r9ISDY9vfmz6"
      },
      "outputs": [],
      "source": [
        "import findspark\n",
        "findspark.init()\n",
        "import pyspark\n",
        "\n",
        "from pyspark import SparkConf, SparkContext\n",
        "from pyspark.sql.types import StringType\n",
        "from pyspark import SQLContext\n",
        "\n",
        "conf = SparkConf().setMaster(\"local\").setAppName(\"Mi programa\")\n",
        "sc = SparkContext(conf = conf)\n",
        "sqlContext = SQLContext(sc)\n",
        "\n",
        "dfspark = sqlContext.read.format(\"csv\").option(\"header\", \"true\").option(\"inferSchema\", \"true\").load(\"/content/sample_data/base_datos_2008.csv\")\n",
        "dfspark = dfspark.sample(fraction=0.001,withReplacement=False)\n",
        "dfspark = dfspark.withColumn(\"ArrDelay\", dfspark[\"ArrDelay\"].cast(\"integer\"))\n",
        "\n",
        "df2 = dfspark.na.drop(subset=['ArrDelay', 'DepDelay','Distance'])\n",
        "df2 = df2.filter(\"ArrDelay is not NULL\")\n",
        "df2 = df2.dropDuplicates()"
      ]
    },
    {
      "cell_type": "code",
      "source": [
        "A = sc.parallelize(df2.select(\"Origin\").rdd.collect())"
      ],
      "metadata": {
        "id": "_orEViKqi8Yi"
      },
      "execution_count": null,
      "outputs": []
    },
    {
      "cell_type": "code",
      "source": [
        "A.persist()"
      ],
      "metadata": {
        "id": "ivykkJXtjCwM"
      },
      "execution_count": null,
      "outputs": []
    },
    {
      "cell_type": "code",
      "source": [
        "mapfunction = A.map(lambda x: (x,1))"
      ],
      "metadata": {
        "id": "Ds07DeUKjGXb"
      },
      "execution_count": null,
      "outputs": []
    },
    {
      "cell_type": "code",
      "source": [
        "def fun(x):\n",
        "    if x[0] in [\"SEA\",\"ATL\",\"HOU\"]:\n",
        "        return((x,2))\n",
        "    elif x[0] = \"DEN\":\n",
        "        return((x,3))\n",
        "    else:\n",
        "        return((x,1))"
      ],
      "metadata": {
        "id": "qVMrqlIKjJuk"
      },
      "execution_count": null,
      "outputs": []
    },
    {
      "cell_type": "code",
      "source": [
        "mapfunction2 = A.map(fun)"
      ],
      "metadata": {
        "id": "2xg0UL74jNwg"
      },
      "execution_count": null,
      "outputs": []
    },
    {
      "cell_type": "code",
      "source": [
        "reducefunction = mapfunction.reduceByKey(lambda x,y: x+y)"
      ],
      "metadata": {
        "id": "G0hged6njRk6"
      },
      "execution_count": null,
      "outputs": []
    },
    {
      "cell_type": "code",
      "source": [
        "reducefunction2 = mapfunction2.reduceByKey(lambda x,y: x+y)"
      ],
      "metadata": {
        "id": "5Wck59lFjVIx"
      },
      "execution_count": null,
      "outputs": []
    },
    {
      "cell_type": "code",
      "source": [
        "reducefunction.collect()"
      ],
      "metadata": {
        "id": "5W62dEXnjYlG"
      },
      "execution_count": null,
      "outputs": []
    },
    {
      "cell_type": "code",
      "source": [
        "reducefunction.take(10)"
      ],
      "metadata": {
        "id": "2BFD6PsDjcuN"
      },
      "execution_count": null,
      "outputs": []
    },
    {
      "cell_type": "code",
      "source": [
        "reducefunction2.take(10)"
      ],
      "metadata": {
        "id": "wnBl_IpXjfVk"
      },
      "execution_count": null,
      "outputs": []
    },
    {
      "cell_type": "code",
      "source": [
        "reducefunction.sortByKey().take(10)"
      ],
      "metadata": {
        "id": "nNwdWdlsjinS"
      },
      "execution_count": null,
      "outputs": []
    },
    {
      "cell_type": "code",
      "source": [
        "reducefunction.sortBy(lambda x: x[1], ascending=False).take(10)"
      ],
      "metadata": {
        "id": "ANBipkwljlsi"
      },
      "execution_count": null,
      "outputs": []
    },
    {
      "cell_type": "code",
      "source": [
        "reducefunction2.sortBy(lambda x: x[1], ascending=False).take(10)"
      ],
      "metadata": {
        "id": "jsm5ifRvjrNQ"
      },
      "execution_count": null,
      "outputs": []
    }
  ]
}