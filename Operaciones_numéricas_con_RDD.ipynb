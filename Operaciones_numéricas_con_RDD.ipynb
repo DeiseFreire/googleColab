{
  "nbformat": 4,
  "nbformat_minor": 0,
  "metadata": {
    "colab": {
      "name": "Operaciones numéricas con RDD.ipynb",
      "provenance": [],
      "authorship_tag": "ABX9TyP5vI8jDXoc7Mbuj/73U3c+",
      "include_colab_link": true
    },
    "kernelspec": {
      "name": "python3",
      "display_name": "Python 3"
    },
    "language_info": {
      "name": "python"
    }
  },
  "cells": [
    {
      "cell_type": "markdown",
      "metadata": {
        "id": "view-in-github",
        "colab_type": "text"
      },
      "source": [
        "<a href=\"https://colab.research.google.com/github/DeiseFreire/googleColab/blob/main/Operaciones_num%C3%A9ricas_con_RDD.ipynb\" target=\"_parent\"><img src=\"https://colab.research.google.com/assets/colab-badge.svg\" alt=\"Open In Colab\"/></a>"
      ]
    },
    {
      "cell_type": "code",
      "execution_count": null,
      "metadata": {
        "id": "nlm8HwsENyGN"
      },
      "outputs": [],
      "source": [
        "from pyspark import SparkConf, SparkContext\n",
        "from pyspark.sql.types import StringType\n",
        "import numpy as np\n",
        "\n",
        "conf = SparkConf().setMaster(\"local\").setAppName(\"Mi programa\")\n",
        "sc = SparkContext(conf = conf)\n",
        "sqlContext = SQLContext(sc)\n",
        "\n",
        "dfspark = sqlContext.read.format(\"csv\").option(\"header\", \"true\").option(\"inferSchema\", \"true\").load(\"C:/Users/booth04-mgr2/Desktop/python/data/2008.csv\")\n",
        "dfspark = dfspark.sample(fraction=0.001,withReplacement=False)\n",
        "dfspark = dfspark.withColumn(\"ArrDelay\",dfspark[\"ArrDelay\"].cast(\"integer\"))\n",
        "\n",
        "df2 = dfspark.na.drop(subset=['ArrDelay','DepDelay','Distance'])\n",
        "df2 = df.filter(\"ArrDelay is not NULL\")\n",
        "df2 = df2.dropDuplicate()"
      ]
    },
    {
      "cell_type": "code",
      "source": [
        "lista = sc.parallelize(range(1,1000000))\n",
        "lista.reduce(lambda x,y:x+y)"
      ],
      "metadata": {
        "id": "sIkmHvcCOGi1"
      },
      "execution_count": null,
      "outputs": []
    },
    {
      "cell_type": "code",
      "source": [
        "lista.sum()"
      ],
      "metadata": {
        "id": "omhToyU_PBEz"
      },
      "execution_count": null,
      "outputs": []
    },
    {
      "cell_type": "code",
      "source": [
        "from pyspark.sql.functions import mean, stddev, col media = df2.select(mean(col('ArrDelay'))).collect()\n",
        "std = df2.select(stddev(col('ArrDelay'))).collect()"
      ],
      "metadata": {
        "id": "sooL0dUBPBuW"
      },
      "execution_count": null,
      "outputs": []
    },
    {
      "cell_type": "code",
      "source": [
        "std"
      ],
      "metadata": {
        "id": "jDBri12zQCLb"
      },
      "execution_count": null,
      "outputs": []
    },
    {
      "cell_type": "code",
      "source": [
        "std[0][0]"
      ],
      "metadata": {
        "id": "DV8YCfpNQDEB"
      },
      "execution_count": null,
      "outputs": []
    },
    {
      "cell_type": "code",
      "source": [
        "df2.withColumn('Diferencia', df2['ArrDelay'] - df2['DepDelay']).collect()"
      ],
      "metadata": {
        "id": "N6fo_ImRPhm1"
      },
      "execution_count": null,
      "outputs": []
    },
    {
      "cell_type": "code",
      "source": [
        "df2.withColumn('Standard', (df2['ArrDelay'] - media[0][0])/std[0][0]).collect()"
      ],
      "metadata": {
        "id": "5ksfy6AkPiy6"
      },
      "execution_count": null,
      "outputs": []
    }
  ]
}