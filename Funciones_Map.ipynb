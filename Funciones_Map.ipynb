{
  "nbformat": 4,
  "nbformat_minor": 0,
  "metadata": {
    "colab": {
      "name": "Funciones Map.ipynb",
      "provenance": [],
      "authorship_tag": "ABX9TyPC6f9uTbhNV/A/xpUfWbqU",
      "include_colab_link": true
    },
    "kernelspec": {
      "name": "python3",
      "display_name": "Python 3"
    },
    "language_info": {
      "name": "python"
    }
  },
  "cells": [
    {
      "cell_type": "markdown",
      "metadata": {
        "id": "view-in-github",
        "colab_type": "text"
      },
      "source": [
        "<a href=\"https://colab.research.google.com/github/DeiseFreire/googleColab/blob/main/Funciones_Map.ipynb\" target=\"_parent\"><img src=\"https://colab.research.google.com/assets/colab-badge.svg\" alt=\"Open In Colab\"/></a>"
      ]
    },
    {
      "cell_type": "code",
      "execution_count": null,
      "metadata": {
        "id": "tStGCo415YXf"
      },
      "outputs": [],
      "source": [
        "from pyspark import SparkConf, SparkContext\n",
        "from pyspark.sql.types import StringType\n",
        "from pyspark import SQLContext\n",
        "\n",
        "conf = SparkConf().setMaster(\"local\").setAppName(\"Mi programa\")\n",
        "sc = SparkContext(conf = conf)\n",
        "sqlContext = SQLContext(sc)\n",
        "\n",
        "dfspark = sqlContext.read.format(\"csv\".option(\"header\", \"true\").option(\"inferSchema\", \"true\").load(\"C:/Users/booth04-mgr2/Desktop/python/data/2008.csv\")\n",
        "dfspark = dfspark,sample(fraction=0.001,withReplacement=False)\n",
        "dfspark = dfspark.withColumn(\"ArrDelay\", dfspark[\"ArrDelay\"].cast(\"integer\"))\n",
        "\n",
        "df2 = dfspark.na.drop(subset=['ArrDelay','DepDelay','Distance'])\n",
        "df2 = df2.filter(\"ArrDelay is not NULL\")\n",
        "df2 = df2.dropDuplicates()"
      ]
    },
    {
      "cell_type": "code",
      "source": [
        "A = sc.parallelize(df2.select(\"Origin\").rdd.collect())"
      ],
      "metadata": {
        "id": "GxTNqPVS5hUT"
      },
      "execution_count": null,
      "outputs": []
    },
    {
      "cell_type": "code",
      "source": [
        "A.persist()"
      ],
      "metadata": {
        "id": "1Jjoz1qi5joA"
      },
      "execution_count": null,
      "outputs": []
    },
    {
      "cell_type": "code",
      "source": [
        "mapfunction = A.map(lambda x: (x,1))"
      ],
      "metadata": {
        "id": "N0aaRDm253LZ"
      },
      "execution_count": null,
      "outputs": []
    },
    {
      "cell_type": "code",
      "source": [
        "mapfunction.collect()"
      ],
      "metadata": {
        "id": "LOKYxi1b55Qs"
      },
      "execution_count": null,
      "outputs": []
    },
    {
      "cell_type": "code",
      "source": [
        "def fun(x):\n",
        "    if x[0] in [\"SEA\",\"ATL\",\"HOU\"]:\n",
        "        return((x,2))\n",
        "    elif x[0[ == \"DEN\":\n",
        "        return((x,3))\n",
        "    else:\n",
        "        return((x,1))"
      ],
      "metadata": {
        "id": "8qng4UW2568t"
      },
      "execution_count": null,
      "outputs": []
    },
    {
      "cell_type": "code",
      "source": [
        "mapfunction2 = A.map(fun)"
      ],
      "metadata": {
        "id": "oRF5NOMI6B_Y"
      },
      "execution_count": null,
      "outputs": []
    },
    {
      "cell_type": "code",
      "source": [
        "mapfunction2.collect()"
      ],
      "metadata": {
        "id": "92EUQYJd6Dyh"
      },
      "execution_count": null,
      "outputs": []
    }
  ]
}