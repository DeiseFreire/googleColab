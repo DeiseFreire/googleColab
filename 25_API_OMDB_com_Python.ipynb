{
  "nbformat": 4,
  "nbformat_minor": 0,
  "metadata": {
    "colab": {
      "name": "25. API OMDB com Python.ipynb",
      "provenance": [],
      "authorship_tag": "ABX9TyNOMvmTFFyzqQIBRreXHplf",
      "include_colab_link": true
    },
    "kernelspec": {
      "name": "python3",
      "display_name": "Python 3"
    },
    "language_info": {
      "name": "python"
    }
  },
  "cells": [
    {
      "cell_type": "markdown",
      "metadata": {
        "id": "view-in-github",
        "colab_type": "text"
      },
      "source": [
        "<a href=\"https://colab.research.google.com/github/DeiseFreire/googleColab/blob/main/25_API_OMDB_com_Python.ipynb\" target=\"_parent\"><img src=\"https://colab.research.google.com/assets/colab-badge.svg\" alt=\"Open In Colab\"/></a>"
      ]
    },
    {
      "cell_type": "code",
      "execution_count": 12,
      "metadata": {
        "id": "iNHPTaDoFwge"
      },
      "outputs": [],
      "source": [
        "from IPython.core.display import JSON\n",
        "import requests\n",
        "\n",
        "# Estudo a API OMDB - Filmes:\n",
        "def get_movie(nome='matrix'):\n",
        "\n",
        "    url_base = f'https://www.omdbapi.com/apikey=9349bb8d={nome}'\n",
        "    r = requests.get(url_base)\n",
        "    return JSON()\n",
        "\n",
        "    print(get_movie(\"Titanic\"))"
      ]
    }
  ]
}