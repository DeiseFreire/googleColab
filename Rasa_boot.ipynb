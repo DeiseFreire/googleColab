'''
Fonte da ideia:
RASA Chatbot Using Google Colab | Part - 1 | Basic Conversational Chatbot Development. 
Produção de Saif Uddin. Publicado pelo canal Saif Uddin. [S. l.], 2021. 1 videoaula (16 mins. 02 segs.). Youtube.
'''

!pip install rasa==1.10.3
!pip install nest_asyncio==1.3.3
from rasa.cli.scaffold import create_initial_project
project = 'test_project'
create_initial_project(project)
os.chdir(project) 
print(os.listdir("."))
config = "config.yml"
training_files = "data/"
domain = 'domain.yml'
output = 'models/'

print(config, training_files, domain, output)
import rasa

model_path = rasa.train(domain, config, [training_files], output)
print(model_path)
from rasa.jupyter import chat

endpoints = "endpoints.yml"
chat(model_path, endpoints)
