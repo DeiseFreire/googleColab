{
  "nbformat": 4,
  "nbformat_minor": 0,
  "metadata": {
    "colab": {
      "name": "Regresión Logística.ipynb",
      "provenance": [],
      "authorship_tag": "ABX9TyMUuXgtn03SUs61yMow7vLL",
      "include_colab_link": true
    },
    "kernelspec": {
      "name": "python3",
      "display_name": "Python 3"
    },
    "language_info": {
      "name": "python"
    }
  },
  "cells": [
    {
      "cell_type": "markdown",
      "metadata": {
        "id": "view-in-github",
        "colab_type": "text"
      },
      "source": [
        "<a href=\"https://colab.research.google.com/github/DeiseFreire/googleColab/blob/main/Regresi%C3%B3n_Log%C3%ADstica.ipynb\" target=\"_parent\"><img src=\"https://colab.research.google.com/assets/colab-badge.svg\" alt=\"Open In Colab\"/></a>"
      ]
    },
    {
      "cell_type": "code",
      "execution_count": null,
      "metadata": {
        "id": "3elouGjpij5j"
      },
      "outputs": [],
      "source": [
        "import pandas as pd\n",
        "import numpy as np\n",
        "from sklearn.linear_model import LogisticRegression\n",
        "from sklearn.metrics import confusion_matrix\n",
        "import matplotlib.pyplot as plt\n",
        "\n",
        "df = pd.read_csv(\"C:/Users/booth04-mgr2/Desktop/python/data/2008.csv\")"
      ]
    },
    {
      "cell_type": "code",
      "source": [
        "df = df.dropna(subset = [\"ArrDelay\"])\n",
        "df = df.sample(frac=1).head(100000)\n",
        "Y = df[\"ArrDelay\"] < 30 # True = 1 / False = 0 // Interpretación: Vuelos sin retraso notable\n",
        "X = df[[\"DepDelay\"]]"
      ],
      "metadata": {
        "id": "hRjXfPx0jEqZ"
      },
      "execution_count": null,
      "outputs": []
    },
    {
      "cell_type": "code",
      "source": [
        "logreg = LogisticRegression()\n",
        "logreg.fit(X, Y)\n",
        "Y_pred = logred.predict(X)"
      ],
      "metadata": {
        "id": "S3ODRyXzj7gU"
      },
      "execution_count": null,
      "outputs": []
    },
    {
      "cell_type": "code",
      "source": [
        "np.round(logreg.predict_proba(X),3)"
      ],
      "metadata": {
        "id": "BL6k1APdkO2P"
      },
      "execution_count": null,
      "outputs": []
    },
    {
      "cell_type": "code",
      "source": [
        "np.mean(Y_pred == Y)"
      ],
      "metadata": {
        "id": "TYvFD_z4kffu"
      },
      "execution_count": null,
      "outputs": []
    },
    {
      "cell_type": "code",
      "source": [
        "np.mean(Y)"
      ],
      "metadata": {
        "id": "6ZQXOsjxkhN8"
      },
      "execution_count": null,
      "outputs": []
    },
    {
      "cell_type": "code",
      "source": [
        "confusion_matrix = confusion_matrix(Y, Y_pred)\n",
        "print(confusion_matrix)"
      ],
      "metadata": {
        "id": "pUdGKpKAlGPo"
      },
      "execution_count": null,
      "outputs": []
    }
  ]
}