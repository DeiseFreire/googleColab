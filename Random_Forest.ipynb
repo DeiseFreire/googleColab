{
  "nbformat": 4,
  "nbformat_minor": 0,
  "metadata": {
    "colab": {
      "name": "Random Forest.ipynb",
      "provenance": [],
      "authorship_tag": "ABX9TyNu18+SRw5QhLhc5XCwmvG3",
      "include_colab_link": true
    },
    "kernelspec": {
      "name": "python3",
      "display_name": "Python 3"
    },
    "language_info": {
      "name": "python"
    }
  },
  "cells": [
    {
      "cell_type": "markdown",
      "metadata": {
        "id": "view-in-github",
        "colab_type": "text"
      },
      "source": [
        "<a href=\"https://colab.research.google.com/github/DeiseFreire/googleColab/blob/main/Random_Forest.ipynb\" target=\"_parent\"><img src=\"https://colab.research.google.com/assets/colab-badge.svg\" alt=\"Open In Colab\"/></a>"
      ]
    },
    {
      "cell_type": "code",
      "execution_count": null,
      "metadata": {
        "id": "etKtPfK6yNZD"
      },
      "outputs": [],
      "source": [
        "from sklearn import tree\n",
        "import nmpy as np\n",
        "import pandas as pd\n",
        "from sklearn.ensemble import RandomForestClassifier\n",
        "\n",
        "df = pd.read_csv(\"C:/Users/booth04-mgr2/Desktop/python/data/2008.csv\")\n",
        "df = df.dropna(subset=[\"ArrDelay\"])\n",
        "df = df.sample(frac=1)\n",
        "dftest = df.tail(500000)\n",
        "df = df.head(500000)"
      ]
    },
    {
      "cell_type": "code",
      "source": [
        "clf = tree.DecisionTreeClassifier()\n",
        "\n",
        "X = df[[\"Distance\",\"AirTime\",'DepTime', 'TaxiIn', 'TaxiOut','DepDelay']]\n",
        "X_test = dftest[[\"Distance\",\"AirTime\",'DepTime', 'TaxiIn', 'TaxiOut','DepDelay']]\n",
        "Y = df[\"ArrDelay\"] > 10\n",
        "Y_test = dftest[\"ArrDelay\"] > 10\n",
        "\n",
        "clf = clf.fit(X, Y)\n",
        "Y_pred_test = clf.predict(X_test)"
      ],
      "metadata": {
        "id": "xxV3rDTOyVZJ"
      },
      "execution_count": null,
      "outputs": []
    },
    {
      "cell_type": "code",
      "source": [
        "np.mean(Y_test == Y_pred_test)"
      ],
      "metadata": {
        "id": "aTSgMtWFyiFg"
      },
      "execution_count": null,
      "outputs": []
    },
    {
      "cell_type": "code",
      "source": [
        "clf = RandomForestClassifier(n_estimators = 100,n_jobs = -1)\n",
        "clf.fit(X, Y)\n",
        "Y_pred_test = clf.predict(X_test)\n",
        "\n",
        "clf.feature_importances_\n",
        "# n_estimators / max_features / bootstrap / n_jobs"
      ],
      "metadata": {
        "id": "nN5az-k3DDca"
      },
      "execution_count": null,
      "outputs": []
    },
    {
      "cell_type": "code",
      "source": [
        "np.mean(Y_test == pred_test)"
      ],
      "metadata": {
        "id": "bPjMvpbrDJgg"
      },
      "execution_count": null,
      "outputs": []
    },
    {
      "cell_type": "code",
      "source": [
        "# RandomForestRegressor()"
      ],
      "metadata": {
        "id": "RQCK_gc-DPQz"
      },
      "execution_count": null,
      "outputs": []
    }
  ]
}