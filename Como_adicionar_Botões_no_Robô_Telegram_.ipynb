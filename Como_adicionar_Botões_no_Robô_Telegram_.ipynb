{
  "nbformat": 4,
  "nbformat_minor": 0,
  "metadata": {
    "colab": {
      "name": "Como adicionar Botões no Robô Telegram .ipynb",
      "provenance": [],
      "authorship_tag": "ABX9TyN7wwUD6fTMdXTxx0WubFmw",
      "include_colab_link": true
    },
    "kernelspec": {
      "name": "python3",
      "display_name": "Python 3"
    },
    "language_info": {
      "name": "python"
    }
  },
  "cells": [
    {
      "cell_type": "markdown",
      "metadata": {
        "id": "view-in-github",
        "colab_type": "text"
      },
      "source": [
        "<a href=\"https://colab.research.google.com/github/DeiseFreire/googleColab/blob/main/Como_adicionar_Bot%C3%B5es_no_Rob%C3%B4_Telegram_.ipynb\" target=\"_parent\"><img src=\"https://colab.research.google.com/assets/colab-badge.svg\" alt=\"Open In Colab\"/></a>"
      ]
    },
    {
      "cell_type": "markdown",
      "source": [
        "**`coding: utf-8`**\n",
        "\n",
        "**`@author: Deise Freire`**\n",
        "\n",
        "**`Referências:`**\n",
        "\n",
        "**`https://telepot.readthedocs.io/en/latest/`**\n",
        "\n",
        "**`https://telepot.readthedocs.io/en/latest/#async-version-python-3-5`**\n",
        "\n",
        "**`ESTUDO DA BIBLIOTECA TELEPOT - TELEGRAM`**"
      ],
      "metadata": {
        "id": "aFR6qlBDs99J"
      }
    },
    {
      "cell_type": "code",
      "execution_count": null,
      "metadata": {
        "id": "iuS_DaT7s2NY"
      },
      "outputs": [],
      "source": [
        "pip install telepot"
      ]
    },
    {
      "cell_type": "code",
      "source": [
        "import sys\n",
        "import time\n",
        "import telepot\n",
        "from telepot.loop import MessageLoop\n",
        "from telepot.namedtuple import InlineKeyboardMarkup, InlineKeyboardButton"
      ],
      "metadata": {
        "id": "z4uFDQLQtHS3"
      },
      "execution_count": null,
      "outputs": []
    },
    {
      "cell_type": "code",
      "source": [
        "TOKEN = '{token}'\n",
        "\n",
        "bot = telepot.Bot(TOKEN)\n",
        "\n",
        "def on_chat_message(msg):\n",
        "    content_type, chat_type, chat_id = telepot.glance(msg)\n",
        "\n",
        "    keyboard = InlineKeyboardMarkup(inline_keyboard=[[InlineKeyboardButton(text='Aperte', callback_data='Feito'),\n",
        "                                                      InlineKeyboardButton(text='Sim', callback_data='ok'),\n",
        "                                                      InlineKeyboardButton(text='Não', callback_data='no')],\n",
        "])\n",
        "    bot.sendMessage(chat_id, 'Escolha a opção abaixo: ', reply_markup=keyboard)\n",
        "\n",
        "def on_callback_query(msg):\n",
        "\n",
        "    query_id, from_id, query_data = telepot.glance(msg, flavor='callback_query')\n",
        "    print('Callback Query:', query_id, from_id, query_data)\n",
        "    print(msg)\n",
        "    bot.answerCallbackQuery(query_id, text=\"Apertou em \"+str(query_data) )\n",
        "\n",
        "MessageLoop(bot, {'chat': on_chat_message,\n",
        "                  'callback_query': on_callback_query}).run_as_thread()\n",
        "print('listening ...')\n",
        "\n",
        "while 1:\n",
        "    time.sleep(10)"
      ],
      "metadata": {
        "id": "gqEmibGNtK87"
      },
      "execution_count": null,
      "outputs": []
    }
  ]
}