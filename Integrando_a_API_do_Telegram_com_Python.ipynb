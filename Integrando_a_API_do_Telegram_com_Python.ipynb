{
  "nbformat": 4,
  "nbformat_minor": 0,
  "metadata": {
    "colab": {
      "name": "Integrando a API do Telegram com Python.ipynb",
      "provenance": [],
      "authorship_tag": "ABX9TyOgXs3wQrxVldxrFFtbXUr2",
      "include_colab_link": true
    },
    "kernelspec": {
      "name": "python3",
      "display_name": "Python 3"
    },
    "language_info": {
      "name": "python"
    }
  },
  "cells": [
    {
      "cell_type": "markdown",
      "metadata": {
        "id": "view-in-github",
        "colab_type": "text"
      },
      "source": [
        "<a href=\"https://colab.research.google.com/github/DeiseFreire/googleColab/blob/main/Integrando_a_API_do_Telegram_com_Python.ipynb\" target=\"_parent\"><img src=\"https://colab.research.google.com/assets/colab-badge.svg\" alt=\"Open In Colab\"/></a>"
      ]
    },
    {
      "cell_type": "markdown",
      "source": [
        "**`coding: utf-8`**"
      ],
      "metadata": {
        "id": "-IrXmOKWg1yO"
      }
    },
    {
      "cell_type": "code",
      "execution_count": null,
      "metadata": {
        "id": "vQFXlLwvgpuk"
      },
      "outputs": [],
      "source": [
        "import requests\n",
        "\n",
        "URL_TELEGRAM_BASE = \"http://api.telegram.org/bot\"\n",
        "r = requests.post(URL_TELEGRAM_BASE + \"/getUpdates\")\n",
        "resposta_dict = r.json()"
      ]
    }
  ]
}