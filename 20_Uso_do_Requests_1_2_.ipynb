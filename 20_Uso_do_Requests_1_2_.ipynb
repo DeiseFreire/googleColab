{
  "nbformat": 4,
  "nbformat_minor": 0,
  "metadata": {
    "colab": {
      "name": "20. Uso do Requests 1-2 .ipynb",
      "provenance": [],
      "authorship_tag": "ABX9TyMIgwH0p3h7z/mwZinIZg4A",
      "include_colab_link": true
    },
    "kernelspec": {
      "name": "python3",
      "display_name": "Python 3"
    },
    "language_info": {
      "name": "python"
    }
  },
  "cells": [
    {
      "cell_type": "markdown",
      "metadata": {
        "id": "view-in-github",
        "colab_type": "text"
      },
      "source": [
        "<a href=\"https://colab.research.google.com/github/DeiseFreire/googleColab/blob/main/20_Uso_do_Requests_1_2_.ipynb\" target=\"_parent\"><img src=\"https://colab.research.google.com/assets/colab-badge.svg\" alt=\"Open In Colab\"/></a>"
      ]
    },
    {
      "cell_type": "markdown",
      "source": [
        "**`coding: utf-8`**\n",
        "\n",
        "\"\"\"\n",
        "\n",
        "**`@author: Deise Freire`**\n",
        "\n",
        "\"\"\""
      ],
      "metadata": {
        "id": "4zFs1fPTB1hq"
      }
    },
    {
      "cell_type": "code",
      "execution_count": 1,
      "metadata": {
        "id": "QuT9VvJfBwKu"
      },
      "outputs": [],
      "source": [
        "import requests"
      ]
    },
    {
      "cell_type": "code",
      "source": [
        "resp = requests.get(\"http://viacep.com.br/ws/01001000/json/\")"
      ],
      "metadata": {
        "id": "fKyCKjfuCLxm"
      },
      "execution_count": 2,
      "outputs": []
    },
    {
      "cell_type": "code",
      "source": [
        "resp"
      ],
      "metadata": {
        "colab": {
          "base_uri": "https://localhost:8080/"
        },
        "id": "3D4NgxtRCO5f",
        "outputId": "41f04b49-9a3d-43b9-8487-bbf1a01dcdd2"
      },
      "execution_count": 3,
      "outputs": [
        {
          "output_type": "execute_result",
          "data": {
            "text/plain": [
              "<Response [200]>"
            ]
          },
          "metadata": {},
          "execution_count": 3
        }
      ]
    },
    {
      "cell_type": "code",
      "source": [
        "resp.text"
      ],
      "metadata": {
        "colab": {
          "base_uri": "https://localhost:8080/",
          "height": 54
        },
        "id": "aXWv-2swCRtw",
        "outputId": "665e0da0-cf60-47d4-b37d-9b24f1462eb3"
      },
      "execution_count": 4,
      "outputs": [
        {
          "output_type": "execute_result",
          "data": {
            "text/plain": [
              "'{\\n  \"cep\": \"01001-000\",\\n  \"logradouro\": \"Praça da Sé\",\\n  \"complemento\": \"lado ímpar\",\\n  \"bairro\": \"Sé\",\\n  \"localidade\": \"São Paulo\",\\n  \"uf\": \"SP\",\\n  \"ibge\": \"3550308\",\\n  \"gia\": \"1004\",\\n  \"ddd\": \"11\",\\n  \"siafi\": \"7107\"\\n}'"
            ],
            "application/vnd.google.colaboratory.intrinsic+json": {
              "type": "string"
            }
          },
          "metadata": {},
          "execution_count": 4
        }
      ]
    },
    {
      "cell_type": "code",
      "source": [
        "print(resp.text)"
      ],
      "metadata": {
        "colab": {
          "base_uri": "https://localhost:8080/"
        },
        "id": "o7ZDlF3TCaTx",
        "outputId": "230bdc95-8ccd-433a-da21-b0153e28032a"
      },
      "execution_count": 5,
      "outputs": [
        {
          "output_type": "stream",
          "name": "stdout",
          "text": [
            "{\n",
            "  \"cep\": \"01001-000\",\n",
            "  \"logradouro\": \"Praça da Sé\",\n",
            "  \"complemento\": \"lado ímpar\",\n",
            "  \"bairro\": \"Sé\",\n",
            "  \"localidade\": \"São Paulo\",\n",
            "  \"uf\": \"SP\",\n",
            "  \"ibge\": \"3550308\",\n",
            "  \"gia\": \"1004\",\n",
            "  \"ddd\": \"11\",\n",
            "  \"siafi\": \"7107\"\n",
            "}\n"
          ]
        }
      ]
    },
    {
      "cell_type": "code",
      "source": [
        "dd = resp.json()"
      ],
      "metadata": {
        "id": "rTW5HZNqCeM6"
      },
      "execution_count": 6,
      "outputs": []
    },
    {
      "cell_type": "code",
      "source": [
        "dt = resp.text"
      ],
      "metadata": {
        "id": "n7lt-MJhChZX"
      },
      "execution_count": 7,
      "outputs": []
    },
    {
      "cell_type": "code",
      "source": [
        "print( dd )"
      ],
      "metadata": {
        "colab": {
          "base_uri": "https://localhost:8080/"
        },
        "id": "MgyD4Xi1Ckm9",
        "outputId": "17ca582a-0eea-450b-f242-afd27c3fbd22"
      },
      "execution_count": 8,
      "outputs": [
        {
          "output_type": "stream",
          "name": "stdout",
          "text": [
            "{'cep': '01001-000', 'logradouro': 'Praça da Sé', 'complemento': 'lado ímpar', 'bairro': 'Sé', 'localidade': 'São Paulo', 'uf': 'SP', 'ibge': '3550308', 'gia': '1004', 'ddd': '11', 'siafi': '7107'}\n"
          ]
        }
      ]
    },
    {
      "cell_type": "code",
      "source": [
        "print(resp.json())"
      ],
      "metadata": {
        "colab": {
          "base_uri": "https://localhost:8080/"
        },
        "id": "BuG2DxAQCnbS",
        "outputId": "97406f3d-9bd7-4fbc-9bc5-dd38c44f7d11"
      },
      "execution_count": 9,
      "outputs": [
        {
          "output_type": "stream",
          "name": "stdout",
          "text": [
            "{'cep': '01001-000', 'logradouro': 'Praça da Sé', 'complemento': 'lado ímpar', 'bairro': 'Sé', 'localidade': 'São Paulo', 'uf': 'SP', 'ibge': '3550308', 'gia': '1004', 'ddd': '11', 'siafi': '7107'}\n"
          ]
        }
      ]
    }
  ]
}