{
  "nbformat": 4,
  "nbformat_minor": 0,
  "metadata": {
    "colab": {
      "provenance": [],
      "authorship_tag": "ABX9TyMcFJRxtawd6xKNgvyMg31o"
    },
    "kernelspec": {
      "name": "python3",
      "display_name": "Python 3"
    },
    "language_info": {
      "name": "python"
    }
  },
  "cells": [
    {
      "cell_type": "code",
      "execution_count": null,
      "metadata": {
        "colab": {
          "base_uri": "https://localhost:8080/"
        },
        "id": "L4dMfj8VnL40",
        "outputId": "2dc27519-9444-430b-97b8-4b7a486ada05"
      },
      "outputs": [
        {
          "output_type": "stream",
          "name": "stdout",
          "text": [
            "raiz:  8.0\n",
            "\n",
            "raiz com exp e log e realint:  7\n",
            "\n",
            "raiz com exp e log sem realint:  7.999999999999998\n",
            "\n",
            " 0.707\n",
            "\n",
            "potencia com exp e log sem formatar:  511.9999999999995\n",
            "\n",
            "potencia com operador ** e formatar:  512.000\n",
            "\n",
            "raiz cuba:  1.9999999999999998\n",
            "\n",
            "absoluto:  8\n",
            "\n",
            "absoluto:  8\n",
            "\n",
            "convertendo para inteiro 5.5:  5\n",
            "\n",
            "convertendo para inteiro 6.5:  6\n",
            "\n",
            "convertendo para inteiro 6.5 + 0.0001:  6\n",
            "\n",
            "convertendo para inteiro 5.45:  5\n",
            "\n",
            "convertendo para inteiro 5.51:  6\n",
            "\n",
            "convertendo para real 87:  87.0\n",
            "\n",
            "convertendo para int 3/4:  0\n"
          ]
        }
      ],
      "source": [
        "# Importa o módulo math\n",
        "import math\n",
        "\n",
        "# Calcula a raiz quadrada de um número\n",
        "def raiz(x):\n",
        "  return x ** (1 / 2)\n",
        "\n",
        "# Formata um número com uma determinada quantidade de casas decimais\n",
        "def formatar(x, casas_decimais):\n",
        "  return f\"{x:.{casas_decimais}f}\"\n",
        "\n",
        "# Realiza os testes matemáticos\n",
        "def main():\n",
        "\n",
        "  # Calcula a raiz quadrada de 64\n",
        "  print(\"raiz: \", raiz(64))\n",
        "\n",
        "  # Calcula a raiz quadrada de 64 usando exp() e log()\n",
        "  print(\"\\nraiz com exp e log e realint: \", math.floor(math.exp(1 / 2 * math.log(64))))\n",
        "\n",
        "  # Calcula a raiz quadrada de 64 usando apenas exp() e log()\n",
        "  print(\"\\nraiz com exp e log sem realint: \", math.exp(1 / 2 * math.log(64)))\n",
        "\n",
        "  # Calcula o seno de 45 graus e arredonda para três casas decimais\n",
        "  print(\"\\n\", formatar(math.sin(45 * math.pi / 180) + 0.0001, 3))\n",
        "\n",
        "  # Calcula a potência de 8 elevado a 3\n",
        "  print(\"\\npotencia com exp e log sem formatar: \", math.exp(3 * math.log(8)))\n",
        "\n",
        "  # Calcula a potência de 8 elevado a 3 e arredonda para três casas decimais\n",
        "  print(\"\\npotencia com operador ** e formatar: \", formatar(8 ** 3, 3))\n",
        "\n",
        "  # Calcula a raiz cúbica de 8\n",
        "  print(\"\\nraiz cuba: \", math.exp(1 / 3 * math.log(8)))\n",
        "\n",
        "  # Calcula o valor absoluto de -8\n",
        "  print(\"\\nabsoluto: \", abs(-8))\n",
        "\n",
        "  # Calcula o valor absoluto de 8\n",
        "  print(\"\\nabsoluto: \", abs(8))\n",
        "\n",
        "  # Converte 5.5 para um número inteiro\n",
        "  print(\"\\nconvertendo para inteiro 5.5: \", math.floor(5.5))\n",
        "\n",
        "  # Converte 6.5 para um número inteiro\n",
        "  print(\"\\nconvertendo para inteiro 6.5: \", math.floor(6.5))\n",
        "\n",
        "  # Converte 6.5 + 0.0001 para um número inteiro\n",
        "  print(\"\\nconvertendo para inteiro 6.5 + 0.0001: \", math.floor(6.5 + 0.0001))\n",
        "\n",
        "  # Converte 5.45 para um número inteiro\n",
        "  print(\"\\nconvertendo para inteiro 5.45: \", math.floor(5.45))\n",
        "\n",
        "  # Converte 5.51 para um número inteiro\n",
        "  print(\"\\nconvertendo para inteiro 5.51: \", math.ceil(5.51))\n",
        "\n",
        "  # Converte 87 para um número real\n",
        "  print(\"\\nconvertendo para real 87: \", 87.0)\n",
        "\n",
        "  # Converte 3/4 para um número inteiro\n",
        "  print(\"\\nconvertendo para int 3/4: \", math.floor(3 / 4))\n",
        "\n",
        "# Executa o teste\n",
        "if __name__ == \"__main__\":\n",
        "  main()"
      ]
    }
  ]
}