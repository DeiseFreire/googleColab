{
  "nbformat": 4,
  "nbformat_minor": 0,
  "metadata": {
    "colab": {
      "name": "16. JSON na prática com Python.ipynb",
      "provenance": [],
      "authorship_tag": "ABX9TyP68Pzl2rZM1IYNnwbKTJpx",
      "include_colab_link": true
    },
    "kernelspec": {
      "name": "python3",
      "display_name": "Python 3"
    },
    "language_info": {
      "name": "python"
    }
  },
  "cells": [
    {
      "cell_type": "markdown",
      "metadata": {
        "id": "view-in-github",
        "colab_type": "text"
      },
      "source": [
        "<a href=\"https://colab.research.google.com/github/DeiseFreire/googleColab/blob/main/16_JSON_na_pr%C3%A1tica_com_Python.ipynb\" target=\"_parent\"><img src=\"https://colab.research.google.com/assets/colab-badge.svg\" alt=\"Open In Colab\"/></a>"
      ]
    },
    {
      "cell_type": "markdown",
      "source": [
        "**`coding: utf-8`**\n",
        "\n",
        "\"\"\"\n",
        "**`Criado no sábado Mar. 14:58:50 2022`**\n",
        "\n",
        "**`@author: Deise Freire`**\n",
        "\n",
        "**`Estudo do JSON`**\n",
        "\"\"\"\n"
      ],
      "metadata": {
        "id": "8c_fISHJU6G8"
      }
    },
    {
      "cell_type": "code",
      "source": [
        "import json\n",
        "\n",
        "# Atenção abaixo temos uma string:\n",
        "json_string = '{\"first_name\": \"Guido\", \"last_name\":\"Rossum\"}'"
      ],
      "metadata": {
        "id": "lkKNQXj2VcoQ"
      },
      "execution_count": 14,
      "outputs": []
    },
    {
      "cell_type": "code",
      "source": [
        "d_json = json.dumps(d)"
      ],
      "metadata": {
        "id": "gxfB3R6iWdQe"
      },
      "execution_count": 15,
      "outputs": []
    },
    {
      "cell_type": "code",
      "source": [
        "# Abaixo temos um dict\n",
        "d = {\n",
        "     'first_name': 'Guido',\n",
        "     'second_name': 'Rossum',\n",
        "     'titles': ['BDFL','Developer'],\n",
        "}"
      ],
      "metadata": {
        "id": "z-66169uWNVZ"
      },
      "execution_count": 13,
      "outputs": []
    },
    {
      "cell_type": "code",
      "source": [
        "# Agora transformaremos para tipo dict\n",
        "json_dict = json.loads(json_string)"
      ],
      "metadata": {
        "id": "WZ-7Rkv4WEI7"
      },
      "execution_count": 7,
      "outputs": []
    },
    {
      "cell_type": "code",
      "source": [
        "json_dict"
      ],
      "metadata": {
        "colab": {
          "base_uri": "https://localhost:8080/"
        },
        "id": "HJgWx43_VqHX",
        "outputId": "a3dbb72b-b02f-4273-83cb-7166eefca6df"
      },
      "execution_count": 8,
      "outputs": [
        {
          "output_type": "execute_result",
          "data": {
            "text/plain": [
              "{'first_name': 'Guido', 'last_name': 'Rossum'}"
            ]
          },
          "metadata": {},
          "execution_count": 8
        }
      ]
    },
    {
      "cell_type": "code",
      "source": [
        "json_dict.keys()"
      ],
      "metadata": {
        "colab": {
          "base_uri": "https://localhost:8080/"
        },
        "id": "IGkYelUoVvsA",
        "outputId": "f8c1ecbc-7e52-4217-d3d6-4f8b3f38705c"
      },
      "execution_count": 9,
      "outputs": [
        {
          "output_type": "execute_result",
          "data": {
            "text/plain": [
              "dict_keys(['first_name', 'last_name'])"
            ]
          },
          "metadata": {},
          "execution_count": 9
        }
      ]
    },
    {
      "cell_type": "code",
      "source": [
        "json_string"
      ],
      "metadata": {
        "colab": {
          "base_uri": "https://localhost:8080/",
          "height": 36
        },
        "id": "A7d3v7cVVz8U",
        "outputId": "1d511901-e0fe-445a-b3ed-3f9305290bfb"
      },
      "execution_count": 10,
      "outputs": [
        {
          "output_type": "execute_result",
          "data": {
            "text/plain": [
              "'{\"first_name\": \"Guido\", \"last_name\":\"Rossum\"}'"
            ],
            "application/vnd.google.colaboratory.intrinsic+json": {
              "type": "string"
            }
          },
          "metadata": {},
          "execution_count": 10
        }
      ]
    },
    {
      "cell_type": "code",
      "source": [
        "json_dict"
      ],
      "metadata": {
        "colab": {
          "base_uri": "https://localhost:8080/"
        },
        "id": "W4fhm0wZV0tE",
        "outputId": "b637546f-bf14-431d-e928-c10cb619ce24"
      },
      "execution_count": 11,
      "outputs": [
        {
          "output_type": "execute_result",
          "data": {
            "text/plain": [
              "{'first_name': 'Guido', 'last_name': 'Rossum'}"
            ]
          },
          "metadata": {},
          "execution_count": 11
        }
      ]
    },
    {
      "cell_type": "code",
      "source": [
        "d_json"
      ],
      "metadata": {
        "id": "LN7VWIBfV4Zn"
      },
      "execution_count": null,
      "outputs": []
    }
  ]
}