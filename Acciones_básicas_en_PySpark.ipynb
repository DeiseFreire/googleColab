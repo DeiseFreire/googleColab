{
  "nbformat": 4,
  "nbformat_minor": 0,
  "metadata": {
    "colab": {
      "name": "Acciones básicas en PySpark.ipynb",
      "provenance": [],
      "authorship_tag": "ABX9TyOZD8ROR5FljhpbmjRgZd4v",
      "include_colab_link": true
    },
    "kernelspec": {
      "name": "python3",
      "display_name": "Python 3"
    },
    "language_info": {
      "name": "python"
    }
  },
  "cells": [
    {
      "cell_type": "markdown",
      "metadata": {
        "id": "view-in-github",
        "colab_type": "text"
      },
      "source": [
        "<a href=\"https://colab.research.google.com/github/DeiseFreire/googleColab/blob/main/Acciones_b%C3%A1sicas_en_PySpark.ipynb\" target=\"_parent\"><img src=\"https://colab.research.google.com/assets/colab-badge.svg\" alt=\"Open In Colab\"/></a>"
      ]
    },
    {
      "cell_type": "code",
      "execution_count": null,
      "metadata": {
        "id": "Dq9n8In-4eue"
      },
      "outputs": [],
      "source": [
        "from pyspark import SparkConf, SparkContext\n",
        "from pyspark.sql.types import StringType\n",
        "from pyspark import SQLContext\n",
        "import numpy as np\n",
        "\n",
        "conf = SparkConf().setMaster(\"local\").setAppName(\"Mi programa\")\n",
        "sc = SparkContext(conf = conf)\n",
        "sqlContext = SQLContext(sc)\n",
        "\n",
        "dfspark = sqlContext.read.format(\"csv\".option(\"header\", \"true\").option(\"inferShema\", \"true\").load(\"C:/Users/booth04-mgr2/Desktop/python/data/2008.csv\")\n",
        "dfspark = dfspark.sample(fraction=0.001,withReplacement=False)\n",
        "dfspark = dfspark.withColumn(\"ArrDelay\", dfspark[\"ArrDelay\"].cast(\"integer\"))\n",
        "\n",
        "df2 = dfspark.na.drop(subset=['ArrDelay','DepDelay','Distance'])\n",
        "df2 = df.filter(\"ArrDelay is not NULL\")\n",
        "df2 = df2.dropDuplicates()"
      ]
    },
    {
      "cell_type": "code",
      "source": [
        "df.select(\"ArrDelay\".describe().show()"
      ],
      "metadata": {
        "id": "kPLh_p8t5C-u"
      },
      "execution_count": null,
      "outputs": []
    },
    {
      "cell_type": "code",
      "source": [
        "df2.select(\"Origin\").rdd.countByValue()"
      ],
      "metadata": {
        "id": "cuz6eIla5Dwj"
      },
      "execution_count": null,
      "outputs": []
    },
    {
      "cell_type": "code",
      "source": [
        "df2.select(\"ArrDelay\").rdd.max()"
      ],
      "metadata": {
        "id": "8szHGeAe5p3-"
      },
      "execution_count": null,
      "outputs": []
    },
    {
      "cell_type": "code",
      "source": [
        "df2.select(\"Origin\").rdd.collect()"
      ],
      "metadata": {
        "id": "X29umQi55_I1"
      },
      "execution_count": null,
      "outputs": []
    },
    {
      "cell_type": "code",
      "source": [
        "df2.crosstab(\"DayOfWeek\",\"Origin\").take(2)"
      ],
      "metadata": {
        "id": "p_ro_Hw36nxs"
      },
      "execution_count": null,
      "outputs": []
    }
  ]
}