{
  "nbformat": 4,
  "nbformat_minor": 0,
  "metadata": {
    "colab": {
      "name": "Preparar-los-datos-para-Machine-Learning.ipynb",
      "provenance": [],
      "authorship_tag": "ABX9TyPTUS/6ekl/khbOgObf0M3t",
      "include_colab_link": true
    },
    "kernelspec": {
      "name": "python3",
      "display_name": "Python 3"
    },
    "language_info": {
      "name": "python"
    }
  },
  "cells": [
    {
      "cell_type": "markdown",
      "metadata": {
        "id": "view-in-github",
        "colab_type": "text"
      },
      "source": [
        "<a href=\"https://colab.research.google.com/github/DeiseFreire/googleColab/blob/main/Preparar_los_datos_para_Machine_Learning.ipynb\" target=\"_parent\"><img src=\"https://colab.research.google.com/assets/colab-badge.svg\" alt=\"Open In Colab\"/></a>"
      ]
    },
    {
      "cell_type": "code",
      "execution_count": null,
      "metadata": {
        "id": "4iAvLNESohuK"
      },
      "outputs": [],
      "source": [
        "from sklearn import preprossing\n",
        "import pandas as pd\n",
        "import numpy as np"
      ]
    },
    {
      "cell_type": "code",
      "source": [
        "df = pd.read_csv(\"C:/Users/booth04-mgr2/Desktop/python/data/2008.csv\",nrows = 100000)\n",
        "df = df[[\"ArrDelay\",\"DepDelay\",\"Distance\",\"AirTime\"]].dropna()"
      ],
      "metadata": {
        "id": "_a0xwHS7ozTd"
      },
      "execution_count": null,
      "outputs": []
    },
    {
      "cell_type": "code",
      "source": [
        "X_scaled = preprocessing.scale(df)\n",
        "X_scaled"
      ],
      "metadata": {
        "id": "z-xVewoYo2ph"
      },
      "execution_count": null,
      "outputs": []
    },
    {
      "cell_type": "code",
      "source": [
        "X_scaled.mean(axis = 0)"
      ],
      "metadata": {
        "id": "gaqZ3TdSo5GO"
      },
      "execution_count": null,
      "outputs": []
    },
    {
      "cell_type": "code",
      "source": [
        "X_scaled.std(axis = 0)"
      ],
      "metadata": {
        "id": "nk1dlDVno7S1"
      },
      "execution_count": null,
      "outputs": []
    },
    {
      "cell_type": "code",
      "source": [
        "\n",
        "X_scaled[2]"
      ],
      "metadata": {
        "id": "LS2Vdu-Ho-ow"
      },
      "execution_count": null,
      "outputs": []
    },
    {
      "cell_type": "code",
      "source": [
        "min_max_scaler = preprocessing.MinMaxScaler([0,10])\n",
        "X_train_minmax = min_max_scaler.fit_transform(df)\n",
        "X_train_minmax"
      ],
      "metadata": {
        "id": "_vXR5jCZpAru"
      },
      "execution_count": null,
      "outputs": []
    },
    {
      "cell_type": "code",
      "source": [
        "df = pd.read_csv(\"C:/Users/booth04-mgr2/Desktop/python/data/2008.csv\",nrows=100)\n",
        "pd.get_dummies(df[\"Origin\"])"
      ],
      "metadata": {
        "id": "WgBhygrupEcO"
      },
      "execution_count": null,
      "outputs": []
    }
  ]
}