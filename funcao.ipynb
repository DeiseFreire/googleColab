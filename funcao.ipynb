{
  "nbformat": 4,
  "nbformat_minor": 0,
  "metadata": {
    "colab": {
      "provenance": [],
      "authorship_tag": "ABX9TyNPEMwjvhaEI7w///Qj3rr6",
      "include_colab_link": true
    },
    "kernelspec": {
      "name": "python3",
      "display_name": "Python 3"
    },
    "language_info": {
      "name": "python"
    }
  },
  "cells": [
    {
      "cell_type": "markdown",
      "metadata": {
        "id": "view-in-github",
        "colab_type": "text"
      },
      "source": [
        "<a href=\"https://colab.research.google.com/github/DeiseFreire/googleColab/blob/main/funcao.ipynb\" target=\"_parent\"><img src=\"https://colab.research.google.com/assets/colab-badge.svg\" alt=\"Open In Colab\"/></a>"
      ]
    },
    {
      "cell_type": "code",
      "execution_count": 1,
      "metadata": {
        "colab": {
          "base_uri": "https://localhost:8080/"
        },
        "id": "cd5oi9RJ5LYr",
        "outputId": "8a699660-8efc-4e4e-a5ce-0a2256de8af8"
      },
      "outputs": [
        {
          "output_type": "stream",
          "name": "stdout",
          "text": [
            "Digite a palavra 1: deise\n",
            "Digite a palavra 2: freire\n",
            "\n",
            "Tamanho da string 'deise': 5\n",
            "\n",
            "Concatenando 'deise' e 'freire': 'deisefreire'\n",
            "\n",
            "O conteúdo de 'd': 'deise'\n",
            "\n",
            "Primeiro caractere: 'd'\n",
            "\n",
            "Último caractere: 'e'\n",
            "\n",
            "Resto da string: 'eise'\n",
            "\n",
            "Terceiro elemento: 'i'\n",
            "\n",
            "Três primeiros elementos: 'dei'\n",
            "\n",
            "Três últimos elementos: 'ise'\n"
          ]
        }
      ],
      "source": [
        "def funcoes():\n",
        "  \"\"\"\n",
        "  Algoritmo que demonstra o uso de funções de string em Python.\n",
        "  \"\"\"\n",
        "  # Entrada de dados\n",
        "  c = input(\"Digite a palavra 1: \")\n",
        "  c1 = input(\"Digite a palavra 2: \")\n",
        "\n",
        "  # Tamanho da string\n",
        "  print(f\"\\nTamanho da string '{c}': {len(c)}\")\n",
        "\n",
        "  # Concatenação de strings (usando o operador +)\n",
        "  concatenacao = c + c1\n",
        "  print(f\"\\nConcatenando '{c}' e '{c1}': '{concatenacao}'\")\n",
        "\n",
        "  # Cópia de string\n",
        "  d = c\n",
        "  print(f\"\\nO conteúdo de 'd': '{d}'\")\n",
        "\n",
        "  # Primeiro caractere\n",
        "  primeiro_caractere = c[0]\n",
        "  print(f\"\\nPrimeiro caractere: '{primeiro_caractere}'\")\n",
        "\n",
        "  # Último caractere\n",
        "  ultimo_caractere = c[-1]\n",
        "  print(f\"\\nÚltimo caractere: '{ultimo_caractere}'\")\n",
        "\n",
        "  # Resto da string (sem o primeiro caractere)\n",
        "  resto_da_string = c[1:]\n",
        "  print(f\"\\nResto da string: '{resto_da_string}'\")\n",
        "\n",
        "  # Terceiro elemento da string\n",
        "  terceiro_elemento = c[2]\n",
        "  print(f\"\\nTerceiro elemento: '{terceiro_elemento}'\")\n",
        "\n",
        "  # Três primeiros elementos da string\n",
        "  tres_primeiros_elementos = c[:3]\n",
        "  print(f\"\\nTrês primeiros elementos: '{tres_primeiros_elementos}'\")\n",
        "\n",
        "  # Três últimos elementos da string\n",
        "  tres_ultimos_elementos = c[-3:]\n",
        "  print(f\"\\nTrês últimos elementos: '{tres_ultimos_elementos}'\")\n",
        "\n",
        "\n",
        "# Execução da função\n",
        "funcoes()"
      ]
    }
  ]
}