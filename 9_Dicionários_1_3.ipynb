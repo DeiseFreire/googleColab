{
  "nbformat": 4,
  "nbformat_minor": 0,
  "metadata": {
    "colab": {
      "name": "9. Dicionários 1-3.ipynb",
      "provenance": [],
      "authorship_tag": "ABX9TyO63tuI/HYesoEDS3SUB0N4",
      "include_colab_link": true
    },
    "kernelspec": {
      "name": "python3",
      "display_name": "Python 3"
    },
    "language_info": {
      "name": "python"
    }
  },
  "cells": [
    {
      "cell_type": "markdown",
      "metadata": {
        "id": "view-in-github",
        "colab_type": "text"
      },
      "source": [
        "<a href=\"https://colab.research.google.com/github/DeiseFreire/googleColab/blob/main/9_Dicion%C3%A1rios_1_3.ipynb\" target=\"_parent\"><img src=\"https://colab.research.google.com/assets/colab-badge.svg\" alt=\"Open In Colab\"/></a>"
      ]
    },
    {
      "cell_type": "markdown",
      "source": [
        "**`coding: utf-8`** \n",
        "\n",
        "**`Criado na quinta-feira mar 18 10:27:20 2022`**\n",
        "**`@author: Deise Freire`**\n"
      ],
      "metadata": {
        "id": "Nki2Smg4NWDH"
      }
    },
    {
      "cell_type": "markdown",
      "source": [
        "**`Revisão sobre listas`**"
      ],
      "metadata": {
        "id": "S8b9A6SkPPCO"
      }
    },
    {
      "cell_type": "code",
      "source": [
        "lista_vazia = []"
      ],
      "metadata": {
        "id": "3HVugU9pOAWm"
      },
      "execution_count": 1,
      "outputs": []
    },
    {
      "cell_type": "code",
      "source": [
        "lista_vazia2 = list()"
      ],
      "metadata": {
        "id": "pL7-9P5IOCr3"
      },
      "execution_count": 2,
      "outputs": []
    },
    {
      "cell_type": "code",
      "source": [
        "familia = ['Roberto', 'Lucas', 'Bianca']"
      ],
      "metadata": {
        "id": "bZHAN7gNOEnF"
      },
      "execution_count": 3,
      "outputs": []
    },
    {
      "cell_type": "code",
      "source": [
        "familia.append('Nathalia')"
      ],
      "metadata": {
        "id": "BZRfTXtPOH6c"
      },
      "execution_count": 5,
      "outputs": []
    },
    {
      "cell_type": "markdown",
      "source": [
        "**`Objetos do tipo tupla`**"
      ],
      "metadata": {
        "id": "TSDPg17pON-P"
      }
    },
    {
      "cell_type": "code",
      "source": [
        "tupla_vazia = ()"
      ],
      "metadata": {
        "id": "_CGb4xV5OJ9l"
      },
      "execution_count": 6,
      "outputs": []
    },
    {
      "cell_type": "code",
      "source": [
        "t1 = tuple(['Rio','Tóquio','Paris'])"
      ],
      "metadata": {
        "id": "NW4_T4bNOf-L"
      },
      "execution_count": 7,
      "outputs": []
    },
    {
      "cell_type": "markdown",
      "source": [
        "**`Dicionários`**"
      ],
      "metadata": {
        "id": "knlipj9OOiC3"
      }
    },
    {
      "cell_type": "code",
      "source": [
        "dicionario = {}"
      ],
      "metadata": {
        "id": "9SS__2isOn3M"
      },
      "execution_count": 8,
      "outputs": []
    },
    {
      "cell_type": "code",
      "source": [
        "dicionario2 = dict()"
      ],
      "metadata": {
        "id": "_kwWYtD2OqXx"
      },
      "execution_count": 9,
      "outputs": []
    },
    {
      "cell_type": "code",
      "source": [
        "familia = {'Pai':'Roberto','Mãe':'Bianca','TemFilhos':False}"
      ],
      "metadata": {
        "id": "I8Nn3ntTOsUq"
      },
      "execution_count": 10,
      "outputs": []
    },
    {
      "cell_type": "code",
      "source": [
        "familia2 = dict(Pai=\"Carlos\", Mae=\"Maria\",TemFilhos=True)"
      ],
      "metadata": {
        "id": "-CnujfSkOumn"
      },
      "execution_count": 11,
      "outputs": []
    },
    {
      "cell_type": "code",
      "source": [
        "lista_tuplas = [(\"Pai\",\"João\"),(\"Mãe\",\"Júlia\"),(\"TemFilhos\",False)]\n",
        "lista_tuplas[0]"
      ],
      "metadata": {
        "colab": {
          "base_uri": "https://localhost:8080/"
        },
        "id": "zfHsr61hOwep",
        "outputId": "1e06dfb2-9d09-4d53-a65d-d4f60ee38a35"
      },
      "execution_count": 12,
      "outputs": [
        {
          "output_type": "execute_result",
          "data": {
            "text/plain": [
              "('Pai', 'João')"
            ]
          },
          "metadata": {},
          "execution_count": 12
        }
      ]
    },
    {
      "cell_type": "code",
      "source": [
        "familia3 = dict(lista_tuplas)"
      ],
      "metadata": {
        "id": "vQomwtedOyYL"
      },
      "execution_count": 13,
      "outputs": []
    }
  ]
}