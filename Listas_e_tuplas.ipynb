{
  "nbformat": 4,
  "nbformat_minor": 0,
  "metadata": {
    "colab": {
      "name": "Listas e tuplas.ipynb",
      "provenance": [],
      "authorship_tag": "ABX9TyM5v41upIbqZ5y8wtqllfo8",
      "include_colab_link": true
    },
    "kernelspec": {
      "name": "python3",
      "display_name": "Python 3"
    },
    "language_info": {
      "name": "python"
    }
  },
  "cells": [
    {
      "cell_type": "markdown",
      "metadata": {
        "id": "view-in-github",
        "colab_type": "text"
      },
      "source": [
        "<a href=\"https://colab.research.google.com/github/DeiseFreire/googleColab/blob/main/Listas_e_tuplas.ipynb\" target=\"_parent\"><img src=\"https://colab.research.google.com/assets/colab-badge.svg\" alt=\"Open In Colab\"/></a>"
      ]
    },
    {
      "cell_type": "markdown",
      "source": [
        "**`# Revisão sobre listas`**"
      ],
      "metadata": {
        "id": "YH7cFcPXIL_a"
      }
    },
    {
      "cell_type": "code",
      "execution_count": 1,
      "metadata": {
        "id": "FNj80i2RydGp"
      },
      "outputs": [],
      "source": [
        "lista_vazia = []"
      ]
    },
    {
      "cell_type": "code",
      "source": [
        "lista_vazia2 = list()"
      ],
      "metadata": {
        "id": "JEMBEzGMynLN"
      },
      "execution_count": 2,
      "outputs": []
    },
    {
      "cell_type": "code",
      "source": [
        "familia = ['Ricardo', 'Lucas', 'Bianca']"
      ],
      "metadata": {
        "id": "0mKoV4FEyo27"
      },
      "execution_count": 3,
      "outputs": []
    },
    {
      "cell_type": "code",
      "source": [
        "familia.append('Nathalia')"
      ],
      "metadata": {
        "id": "5x_xFm--4fAM"
      },
      "execution_count": 4,
      "outputs": []
    },
    {
      "cell_type": "markdown",
      "source": [
        "**# `Objetos do tipo tuple `**"
      ],
      "metadata": {
        "id": "g9QzLfbQ0YGf"
      }
    },
    {
      "cell_type": "code",
      "source": [
        "t1 = tuple(['Rio','Tóquio','Paris'])"
      ],
      "metadata": {
        "id": "I6epdn650RHy"
      },
      "execution_count": 3,
      "outputs": []
    }
  ]
}