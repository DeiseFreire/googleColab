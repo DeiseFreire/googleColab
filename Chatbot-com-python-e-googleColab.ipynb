# 
# Fonte da ideia:
# CHATBOT utilizando Python y chatterbot en Google Colab. Produção de Daniel Moreno Rosselló. 
# Publicado pelo canal Daniel Moreno Rosselló. [S. l.], 2020. 1 videoaula (4 mins. 48 segs.). Youtube.  
#

!pip install chatterbot

from chatterbot import ChatBot
from chatterbot.trainers import ListTrainer
bot = ChatBot (
  'O meu primeiro Bot',
   # storage_adapter='chatterbot.storageSQLStorageAdapter',
   database_url='sqlite:///basedatosconversacion.sqlite3',
   logic_adapters=[
      'chatterbot.logic.BestMatch',
   ]

)
trainer = ListTrainer(bot)
trainer.train([
      'Bom dia?',
      'Bom dia!',
      'Tudo bem com você?', 
      'Sim, vou bem!',
      'Vai sair hoje?',
      'Sim, vou treinar!',
      'Que bom! É muito saudável isso!'
])
trainer.train([
      'Que dia lindo não acha?'
      'Sim, amo dias assim'
      'É um ótimo dia para se fazer qualquer coisa, não acha?'
      'Com certeza!'
])

while True:
    try:
       bot_input = bot.get_response(input())
       print(bot_input)

    except(keyboardInterrupt, EOFError, SystemExit):
       break
