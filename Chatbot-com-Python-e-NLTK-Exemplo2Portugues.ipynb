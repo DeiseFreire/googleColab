""" Fonte da ideia: 
CHATBOT para pesquisa de documentos. Produção de IA Expert Academy. Publicado pelo canal IA Expert Academy. 
[S. l.], 2020. 1 videoaula (7 mins. 53 segs). Youtube.
"""

""" Chatbot com Python e NLTK para pesquisar documentos - Exemplo 2
Etapa 1: Importação das bibliotecas
"""
# pip install bs4
import urllib.request
import re
import nltk
import numpy as np
import random
import string  
nltk.download('punkt')
[nltk_data] Downloading package punkt to /root/nltk_data...
[nltk_data]   Unzipping tokenizers/punkt.zip.
True  
!pip install spacy --upgrade
import spacy
spacy.__version__
3.0.6
nltk.__version__ 
3.2.5
!python3 -m spacy download pt
# Etapa 2: Carregamento e pré-processamento da base de dados 
# Carregamento da base de dados 
# Pré-processamento da base de dados 
# Etapa 3: Frases de boas-vindas
# Etapa 4: Entendimento TF-IDF (Term frequency - inverse document frequency)
