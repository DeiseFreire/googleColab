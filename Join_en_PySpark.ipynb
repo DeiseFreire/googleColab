{
  "nbformat": 4,
  "nbformat_minor": 0,
  "metadata": {
    "colab": {
      "name": "Join en PySpark.ipynb",
      "provenance": [],
      "authorship_tag": "ABX9TyMJefNEXOgacpstNVOxj5cU",
      "include_colab_link": true
    },
    "kernelspec": {
      "name": "python3",
      "display_name": "Python 3"
    },
    "language_info": {
      "name": "python"
    }
  },
  "cells": [
    {
      "cell_type": "markdown",
      "metadata": {
        "id": "view-in-github",
        "colab_type": "text"
      },
      "source": [
        "<a href=\"https://colab.research.google.com/github/DeiseFreire/googleColab/blob/main/Join_en_PySpark.ipynb\" target=\"_parent\"><img src=\"https://colab.research.google.com/assets/colab-badge.svg\" alt=\"Open In Colab\"/></a>"
      ]
    },
    {
      "cell_type": "code",
      "execution_count": null,
      "metadata": {
        "id": "lWWvuo5rY6q6"
      },
      "outputs": [],
      "source": [
        "from pyspark import SparkConf, SparkContext\n",
        "conf = SparkConf().setMaster(\"local\").setAppName(\"Mi programa\")"
      ]
    },
    {
      "cell_type": "code",
      "source": [
        "x = sc.parallelize([(\"a\", 5), (\"b\", 6),(\"c\",7),(\"d\",8)])\n",
        "y = sc.parallelize([(\"a\", 1), (\"a\", 2),(\"c\",3)])"
      ],
      "metadata": {
        "id": "_HGkQt0pZCBu"
      },
      "execution_count": null,
      "outputs": []
    },
    {
      "cell_type": "code",
      "source": [
        "x.join(y).collect()"
      ],
      "metadata": {
        "id": "eE9Xf4XXZDXk"
      },
      "execution_count": null,
      "outputs": []
    },
    {
      "cell_type": "code",
      "source": [
        "y.join(x).collect()"
      ],
      "metadata": {
        "id": "0_Kb5lgNZFhS"
      },
      "execution_count": null,
      "outputs": []
    },
    {
      "cell_type": "code",
      "source": [
        "y.leftOuterJoin(x).collect()"
      ],
      "metadata": {
        "id": "MSLGofbqZIka"
      },
      "execution_count": null,
      "outputs": []
    },
    {
      "cell_type": "code",
      "source": [
        "y.rightOuterJoin(x).collect()"
      ],
      "metadata": {
        "id": "soe-eHyPZKY0"
      },
      "execution_count": null,
      "outputs": []
    }
  ]
}